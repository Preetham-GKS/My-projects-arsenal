{
 "cells": [
  {
   "cell_type": "markdown",
   "metadata": {},
   "source": [
    "# Assignment-6 Implement SGD for linear regression."
   ]
  },
  {
   "cell_type": "markdown",
   "metadata": {},
   "source": [
    "## 1. Loading the Boston price data set & generating train & test dataframes"
   ]
  },
  {
   "cell_type": "code",
   "execution_count": 1,
   "metadata": {},
   "outputs": [],
   "source": [
    "import warnings\n",
    "warnings.filterwarnings(\"ignore\")\n",
    "from random import seed\n",
    "from random import randrange\n",
    "from csv import reader\n",
    "from math import sqrt\n",
    "from sklearn import preprocessing\n",
    "import pandas as pd\n",
    "import numpy as np\n",
    "import matplotlib.pyplot as plt\n",
    "from sklearn.linear_model import SGDRegressor\n",
    "from sklearn.metrics import mean_squared_error"
   ]
  },
  {
   "cell_type": "code",
   "execution_count": 2,
   "metadata": {},
   "outputs": [],
   "source": [
    "from sklearn.datasets import load_boston\n",
    "boston = load_boston()"
   ]
  },
  {
   "cell_type": "code",
   "execution_count": 3,
   "metadata": {},
   "outputs": [
    {
     "name": "stdout",
     "output_type": "stream",
     "text": [
      "(506, 13)\n",
      "['CRIM' 'ZN' 'INDUS' 'CHAS' 'NOX' 'RM' 'AGE' 'DIS' 'RAD' 'TAX' 'PTRATIO'\n",
      " 'B' 'LSTAT']\n",
      "[24.  21.6 34.7 33.4 36.2 28.7 22.9 27.1 16.5 18.9 15.  18.9 21.7 20.4\n",
      " 18.2 19.9 23.1 17.5 20.2 18.2 13.6 19.6 15.2 14.5 15.6 13.9 16.6 14.8\n",
      " 18.4 21.  12.7 14.5 13.2 13.1 13.5 18.9 20.  21.  24.7 30.8 34.9 26.6\n",
      " 25.3 24.7 21.2 19.3 20.  16.6 14.4 19.4 19.7 20.5 25.  23.4 18.9 35.4\n",
      " 24.7 31.6 23.3 19.6 18.7 16.  22.2 25.  33.  23.5 19.4 22.  17.4 20.9\n",
      " 24.2 21.7 22.8 23.4 24.1 21.4 20.  20.8 21.2 20.3 28.  23.9 24.8 22.9\n",
      " 23.9 26.6 22.5 22.2 23.6 28.7 22.6 22.  22.9 25.  20.6 28.4 21.4 38.7\n",
      " 43.8 33.2 27.5 26.5 18.6 19.3 20.1 19.5 19.5 20.4 19.8 19.4 21.7 22.8\n",
      " 18.8 18.7 18.5 18.3 21.2 19.2 20.4 19.3 22.  20.3 20.5 17.3 18.8 21.4\n",
      " 15.7 16.2 18.  14.3 19.2 19.6 23.  18.4 15.6 18.1 17.4 17.1 13.3 17.8\n",
      " 14.  14.4 13.4 15.6 11.8 13.8 15.6 14.6 17.8 15.4 21.5 19.6 15.3 19.4\n",
      " 17.  15.6 13.1 41.3 24.3 23.3 27.  50.  50.  50.  22.7 25.  50.  23.8\n",
      " 23.8 22.3 17.4 19.1 23.1 23.6 22.6 29.4 23.2 24.6 29.9 37.2 39.8 36.2\n",
      " 37.9 32.5 26.4 29.6 50.  32.  29.8 34.9 37.  30.5 36.4 31.1 29.1 50.\n",
      " 33.3 30.3 34.6 34.9 32.9 24.1 42.3 48.5 50.  22.6 24.4 22.5 24.4 20.\n",
      " 21.7 19.3 22.4 28.1 23.7 25.  23.3 28.7 21.5 23.  26.7 21.7 27.5 30.1\n",
      " 44.8 50.  37.6 31.6 46.7 31.5 24.3 31.7 41.7 48.3 29.  24.  25.1 31.5\n",
      " 23.7 23.3 22.  20.1 22.2 23.7 17.6 18.5 24.3 20.5 24.5 26.2 24.4 24.8\n",
      " 29.6 42.8 21.9 20.9 44.  50.  36.  30.1 33.8 43.1 48.8 31.  36.5 22.8\n",
      " 30.7 50.  43.5 20.7 21.1 25.2 24.4 35.2 32.4 32.  33.2 33.1 29.1 35.1\n",
      " 45.4 35.4 46.  50.  32.2 22.  20.1 23.2 22.3 24.8 28.5 37.3 27.9 23.9\n",
      " 21.7 28.6 27.1 20.3 22.5 29.  24.8 22.  26.4 33.1 36.1 28.4 33.4 28.2\n",
      " 22.8 20.3 16.1 22.1 19.4 21.6 23.8 16.2 17.8 19.8 23.1 21.  23.8 23.1\n",
      " 20.4 18.5 25.  24.6 23.  22.2 19.3 22.6 19.8 17.1 19.4 22.2 20.7 21.1\n",
      " 19.5 18.5 20.6 19.  18.7 32.7 16.5 23.9 31.2 17.5 17.2 23.1 24.5 26.6\n",
      " 22.9 24.1 18.6 30.1 18.2 20.6 17.8 21.7 22.7 22.6 25.  19.9 20.8 16.8\n",
      " 21.9 27.5 21.9 23.1 50.  50.  50.  50.  50.  13.8 13.8 15.  13.9 13.3\n",
      " 13.1 10.2 10.4 10.9 11.3 12.3  8.8  7.2 10.5  7.4 10.2 11.5 15.1 23.2\n",
      "  9.7 13.8 12.7 13.1 12.5  8.5  5.   6.3  5.6  7.2 12.1  8.3  8.5  5.\n",
      " 11.9 27.9 17.2 27.5 15.  17.2 17.9 16.3  7.   7.2  7.5 10.4  8.8  8.4\n",
      " 16.7 14.2 20.8 13.4 11.7  8.3 10.2 10.9 11.   9.5 14.5 14.1 16.1 14.3\n",
      " 11.7 13.4  9.6  8.7  8.4 12.8 10.5 17.1 18.4 15.4 10.8 11.8 14.9 12.6\n",
      " 14.1 13.  13.4 15.2 16.1 17.8 14.9 14.1 12.7 13.5 14.9 20.  16.4 17.7\n",
      " 19.5 20.2 21.4 19.9 19.  19.1 19.1 20.1 19.9 19.6 23.2 29.8 13.8 13.3\n",
      " 16.7 12.  14.6 21.4 23.  23.7 25.  21.8 20.6 21.2 19.1 20.6 15.2  7.\n",
      "  8.1 13.6 20.1 21.8 24.5 23.1 19.7 18.3 21.2 17.5 16.8 22.4 20.6 23.9\n",
      " 22.  11.9]\n"
     ]
    }
   ],
   "source": [
    "print(boston.data.shape)\n",
    "print(boston.feature_names)\n",
    "print(boston.target)"
   ]
  },
  {
   "cell_type": "code",
   "execution_count": 4,
   "metadata": {},
   "outputs": [
    {
     "name": "stdout",
     "output_type": "stream",
     "text": [
      "         0     1     2    3      4      5     6       7    8      9    10  \\\n",
      "0  0.00632  18.0  2.31  0.0  0.538  6.575  65.2  4.0900  1.0  296.0  15.3   \n",
      "1  0.02731   0.0  7.07  0.0  0.469  6.421  78.9  4.9671  2.0  242.0  17.8   \n",
      "2  0.02729   0.0  7.07  0.0  0.469  7.185  61.1  4.9671  2.0  242.0  17.8   \n",
      "3  0.03237   0.0  2.18  0.0  0.458  6.998  45.8  6.0622  3.0  222.0  18.7   \n",
      "4  0.06905   0.0  2.18  0.0  0.458  7.147  54.2  6.0622  3.0  222.0  18.7   \n",
      "\n",
      "       11    12  \n",
      "0  396.90  4.98  \n",
      "1  396.90  9.14  \n",
      "2  392.83  4.03  \n",
      "3  394.63  2.94  \n",
      "4  396.90  5.33  \n"
     ]
    }
   ],
   "source": [
    "import pandas as pd\n",
    "bos = pd.DataFrame(boston.data)\n",
    "print(bos.head())"
   ]
  },
  {
   "cell_type": "code",
   "execution_count": 5,
   "metadata": {},
   "outputs": [
    {
     "data": {
      "text/plain": [
       "array([ 0,  1,  2,  3,  4,  5,  6,  7,  8,  9, 10, 11, 12], dtype=int64)"
      ]
     },
     "execution_count": 5,
     "metadata": {},
     "output_type": "execute_result"
    }
   ],
   "source": [
    "bos.columns.values"
   ]
  },
  {
   "cell_type": "code",
   "execution_count": 6,
   "metadata": {},
   "outputs": [],
   "source": [
    "bos['PRICE'] = boston.target"
   ]
  },
  {
   "cell_type": "code",
   "execution_count": 7,
   "metadata": {},
   "outputs": [
    {
     "data": {
      "text/plain": [
       "array([0, 1, 2, 3, 4, 5, 6, 7, 8, 9, 10, 11, 12, 'PRICE'], dtype=object)"
      ]
     },
     "execution_count": 7,
     "metadata": {},
     "output_type": "execute_result"
    }
   ],
   "source": [
    "bos.columns.values"
   ]
  },
  {
   "cell_type": "code",
   "execution_count": 8,
   "metadata": {},
   "outputs": [
    {
     "data": {
      "text/html": [
       "<div>\n",
       "<style scoped>\n",
       "    .dataframe tbody tr th:only-of-type {\n",
       "        vertical-align: middle;\n",
       "    }\n",
       "\n",
       "    .dataframe tbody tr th {\n",
       "        vertical-align: top;\n",
       "    }\n",
       "\n",
       "    .dataframe thead th {\n",
       "        text-align: right;\n",
       "    }\n",
       "</style>\n",
       "<table border=\"1\" class=\"dataframe\">\n",
       "  <thead>\n",
       "    <tr style=\"text-align: right;\">\n",
       "      <th></th>\n",
       "      <th>0</th>\n",
       "      <th>1</th>\n",
       "      <th>2</th>\n",
       "      <th>3</th>\n",
       "      <th>4</th>\n",
       "      <th>5</th>\n",
       "      <th>6</th>\n",
       "      <th>7</th>\n",
       "      <th>8</th>\n",
       "      <th>9</th>\n",
       "      <th>10</th>\n",
       "      <th>11</th>\n",
       "      <th>12</th>\n",
       "      <th>PRICE</th>\n",
       "    </tr>\n",
       "  </thead>\n",
       "  <tbody>\n",
       "    <tr>\n",
       "      <th>0</th>\n",
       "      <td>0.00632</td>\n",
       "      <td>18.0</td>\n",
       "      <td>2.31</td>\n",
       "      <td>0.0</td>\n",
       "      <td>0.538</td>\n",
       "      <td>6.575</td>\n",
       "      <td>65.2</td>\n",
       "      <td>4.0900</td>\n",
       "      <td>1.0</td>\n",
       "      <td>296.0</td>\n",
       "      <td>15.3</td>\n",
       "      <td>396.90</td>\n",
       "      <td>4.98</td>\n",
       "      <td>24.0</td>\n",
       "    </tr>\n",
       "    <tr>\n",
       "      <th>1</th>\n",
       "      <td>0.02731</td>\n",
       "      <td>0.0</td>\n",
       "      <td>7.07</td>\n",
       "      <td>0.0</td>\n",
       "      <td>0.469</td>\n",
       "      <td>6.421</td>\n",
       "      <td>78.9</td>\n",
       "      <td>4.9671</td>\n",
       "      <td>2.0</td>\n",
       "      <td>242.0</td>\n",
       "      <td>17.8</td>\n",
       "      <td>396.90</td>\n",
       "      <td>9.14</td>\n",
       "      <td>21.6</td>\n",
       "    </tr>\n",
       "    <tr>\n",
       "      <th>2</th>\n",
       "      <td>0.02729</td>\n",
       "      <td>0.0</td>\n",
       "      <td>7.07</td>\n",
       "      <td>0.0</td>\n",
       "      <td>0.469</td>\n",
       "      <td>7.185</td>\n",
       "      <td>61.1</td>\n",
       "      <td>4.9671</td>\n",
       "      <td>2.0</td>\n",
       "      <td>242.0</td>\n",
       "      <td>17.8</td>\n",
       "      <td>392.83</td>\n",
       "      <td>4.03</td>\n",
       "      <td>34.7</td>\n",
       "    </tr>\n",
       "    <tr>\n",
       "      <th>3</th>\n",
       "      <td>0.03237</td>\n",
       "      <td>0.0</td>\n",
       "      <td>2.18</td>\n",
       "      <td>0.0</td>\n",
       "      <td>0.458</td>\n",
       "      <td>6.998</td>\n",
       "      <td>45.8</td>\n",
       "      <td>6.0622</td>\n",
       "      <td>3.0</td>\n",
       "      <td>222.0</td>\n",
       "      <td>18.7</td>\n",
       "      <td>394.63</td>\n",
       "      <td>2.94</td>\n",
       "      <td>33.4</td>\n",
       "    </tr>\n",
       "    <tr>\n",
       "      <th>4</th>\n",
       "      <td>0.06905</td>\n",
       "      <td>0.0</td>\n",
       "      <td>2.18</td>\n",
       "      <td>0.0</td>\n",
       "      <td>0.458</td>\n",
       "      <td>7.147</td>\n",
       "      <td>54.2</td>\n",
       "      <td>6.0622</td>\n",
       "      <td>3.0</td>\n",
       "      <td>222.0</td>\n",
       "      <td>18.7</td>\n",
       "      <td>396.90</td>\n",
       "      <td>5.33</td>\n",
       "      <td>36.2</td>\n",
       "    </tr>\n",
       "    <tr>\n",
       "      <th>5</th>\n",
       "      <td>0.02985</td>\n",
       "      <td>0.0</td>\n",
       "      <td>2.18</td>\n",
       "      <td>0.0</td>\n",
       "      <td>0.458</td>\n",
       "      <td>6.430</td>\n",
       "      <td>58.7</td>\n",
       "      <td>6.0622</td>\n",
       "      <td>3.0</td>\n",
       "      <td>222.0</td>\n",
       "      <td>18.7</td>\n",
       "      <td>394.12</td>\n",
       "      <td>5.21</td>\n",
       "      <td>28.7</td>\n",
       "    </tr>\n",
       "    <tr>\n",
       "      <th>6</th>\n",
       "      <td>0.08829</td>\n",
       "      <td>12.5</td>\n",
       "      <td>7.87</td>\n",
       "      <td>0.0</td>\n",
       "      <td>0.524</td>\n",
       "      <td>6.012</td>\n",
       "      <td>66.6</td>\n",
       "      <td>5.5605</td>\n",
       "      <td>5.0</td>\n",
       "      <td>311.0</td>\n",
       "      <td>15.2</td>\n",
       "      <td>395.60</td>\n",
       "      <td>12.43</td>\n",
       "      <td>22.9</td>\n",
       "    </tr>\n",
       "    <tr>\n",
       "      <th>7</th>\n",
       "      <td>0.14455</td>\n",
       "      <td>12.5</td>\n",
       "      <td>7.87</td>\n",
       "      <td>0.0</td>\n",
       "      <td>0.524</td>\n",
       "      <td>6.172</td>\n",
       "      <td>96.1</td>\n",
       "      <td>5.9505</td>\n",
       "      <td>5.0</td>\n",
       "      <td>311.0</td>\n",
       "      <td>15.2</td>\n",
       "      <td>396.90</td>\n",
       "      <td>19.15</td>\n",
       "      <td>27.1</td>\n",
       "    </tr>\n",
       "    <tr>\n",
       "      <th>8</th>\n",
       "      <td>0.21124</td>\n",
       "      <td>12.5</td>\n",
       "      <td>7.87</td>\n",
       "      <td>0.0</td>\n",
       "      <td>0.524</td>\n",
       "      <td>5.631</td>\n",
       "      <td>100.0</td>\n",
       "      <td>6.0821</td>\n",
       "      <td>5.0</td>\n",
       "      <td>311.0</td>\n",
       "      <td>15.2</td>\n",
       "      <td>386.63</td>\n",
       "      <td>29.93</td>\n",
       "      <td>16.5</td>\n",
       "    </tr>\n",
       "    <tr>\n",
       "      <th>9</th>\n",
       "      <td>0.17004</td>\n",
       "      <td>12.5</td>\n",
       "      <td>7.87</td>\n",
       "      <td>0.0</td>\n",
       "      <td>0.524</td>\n",
       "      <td>6.004</td>\n",
       "      <td>85.9</td>\n",
       "      <td>6.5921</td>\n",
       "      <td>5.0</td>\n",
       "      <td>311.0</td>\n",
       "      <td>15.2</td>\n",
       "      <td>386.71</td>\n",
       "      <td>17.10</td>\n",
       "      <td>18.9</td>\n",
       "    </tr>\n",
       "  </tbody>\n",
       "</table>\n",
       "</div>"
      ],
      "text/plain": [
       "         0     1     2    3      4      5      6       7    8      9    10  \\\n",
       "0  0.00632  18.0  2.31  0.0  0.538  6.575   65.2  4.0900  1.0  296.0  15.3   \n",
       "1  0.02731   0.0  7.07  0.0  0.469  6.421   78.9  4.9671  2.0  242.0  17.8   \n",
       "2  0.02729   0.0  7.07  0.0  0.469  7.185   61.1  4.9671  2.0  242.0  17.8   \n",
       "3  0.03237   0.0  2.18  0.0  0.458  6.998   45.8  6.0622  3.0  222.0  18.7   \n",
       "4  0.06905   0.0  2.18  0.0  0.458  7.147   54.2  6.0622  3.0  222.0  18.7   \n",
       "5  0.02985   0.0  2.18  0.0  0.458  6.430   58.7  6.0622  3.0  222.0  18.7   \n",
       "6  0.08829  12.5  7.87  0.0  0.524  6.012   66.6  5.5605  5.0  311.0  15.2   \n",
       "7  0.14455  12.5  7.87  0.0  0.524  6.172   96.1  5.9505  5.0  311.0  15.2   \n",
       "8  0.21124  12.5  7.87  0.0  0.524  5.631  100.0  6.0821  5.0  311.0  15.2   \n",
       "9  0.17004  12.5  7.87  0.0  0.524  6.004   85.9  6.5921  5.0  311.0  15.2   \n",
       "\n",
       "       11     12  PRICE  \n",
       "0  396.90   4.98   24.0  \n",
       "1  396.90   9.14   21.6  \n",
       "2  392.83   4.03   34.7  \n",
       "3  394.63   2.94   33.4  \n",
       "4  396.90   5.33   36.2  \n",
       "5  394.12   5.21   28.7  \n",
       "6  395.60  12.43   22.9  \n",
       "7  396.90  19.15   27.1  \n",
       "8  386.63  29.93   16.5  \n",
       "9  386.71  17.10   18.9  "
      ]
     },
     "execution_count": 8,
     "metadata": {},
     "output_type": "execute_result"
    }
   ],
   "source": [
    "bos.head(10)"
   ]
  },
  {
   "cell_type": "code",
   "execution_count": 9,
   "metadata": {
    "scrolled": true
   },
   "outputs": [
    {
     "data": {
      "text/plain": [
       "count    506.000000\n",
       "mean      22.532806\n",
       "std        9.197104\n",
       "min        5.000000\n",
       "25%       17.025000\n",
       "50%       21.200000\n",
       "75%       25.000000\n",
       "max       50.000000\n",
       "Name: PRICE, dtype: float64"
      ]
     },
     "execution_count": 9,
     "metadata": {},
     "output_type": "execute_result"
    }
   ],
   "source": [
    "bos['PRICE'].describe()"
   ]
  },
  {
   "cell_type": "code",
   "execution_count": 10,
   "metadata": {},
   "outputs": [],
   "source": [
    "X=bos.drop('PRICE', axis = 1)\n",
    "Y = bos['PRICE']"
   ]
  },
  {
   "cell_type": "markdown",
   "metadata": {},
   "source": [
    "### 1.1 Splitting the data"
   ]
  },
  {
   "cell_type": "code",
   "execution_count": 11,
   "metadata": {},
   "outputs": [
    {
     "name": "stdout",
     "output_type": "stream",
     "text": [
      "(339, 13)\n",
      "(167, 13)\n",
      "(339,)\n",
      "(167,)\n"
     ]
    }
   ],
   "source": [
    "# splitting the data frame into train & test\n",
    "import sklearn\n",
    "from sklearn.model_selection import train_test_split\n",
    "X_train, X_test, Y_train, Y_test = train_test_split(X, Y, test_size = 0.33, random_state = 5)\n",
    "print(X_train.shape)\n",
    "print(X_test.shape)\n",
    "print(Y_train.shape)\n",
    "print(Y_test.shape)"
   ]
  },
  {
   "cell_type": "markdown",
   "metadata": {},
   "source": [
    "### 1.2 Standardizing the train & test data"
   ]
  },
  {
   "cell_type": "code",
   "execution_count": 23,
   "metadata": {},
   "outputs": [
    {
     "name": "stdout",
     "output_type": "stream",
     "text": [
      "After Standardization\n",
      "(339, 13)\n",
      "(167, 13)\n"
     ]
    }
   ],
   "source": [
    "#standardizing Xi's\n",
    "from sklearn import preprocessing\n",
    "from sklearn.preprocessing import StandardScaler\n",
    "scaler1 = StandardScaler()\n",
    "scaler1.fit(X_train)\n",
    "X_train_std=scaler1.transform(X_train)\n",
    "X_test_std=scaler1.transform(X_test)\n",
    "\n",
    "print(\"After Standardization\")\n",
    "print(X_train_std.shape)\n",
    "print(X_test_std.shape)"
   ]
  },
  {
   "cell_type": "code",
   "execution_count": 24,
   "metadata": {
    "scrolled": true
   },
   "outputs": [
    {
     "name": "stdout",
     "output_type": "stream",
     "text": [
      "After Standardization\n",
      "(339, 1)\n",
      "(167, 1)\n"
     ]
    }
   ],
   "source": [
    "#standardizing Yi's\n",
    "from sklearn.preprocessing import StandardScaler\n",
    "scaler2 = StandardScaler()\n",
    "scaler2.fit(Y_train.values.reshape(-1,1))\n",
    "Y_train_std=scaler2.transform((Y_train).values.reshape(-1,1))\n",
    "Y_test_std=scaler2.transform((Y_test).values.reshape(-1,1))\n",
    "\n",
    "print(\"After Standardization\")\n",
    "print(Y_train_std.shape)\n",
    "print(Y_test_std.shape)"
   ]
  },
  {
   "cell_type": "markdown",
   "metadata": {},
   "source": [
    "#### 1.2.1 Creating dataframes for train & test data using standardized values"
   ]
  },
  {
   "cell_type": "markdown",
   "metadata": {},
   "source": [
    "#### 1.2.1.1 To create train_data"
   ]
  },
  {
   "cell_type": "code",
   "execution_count": 25,
   "metadata": {},
   "outputs": [
    {
     "data": {
      "text/html": [
       "<div>\n",
       "<style scoped>\n",
       "    .dataframe tbody tr th:only-of-type {\n",
       "        vertical-align: middle;\n",
       "    }\n",
       "\n",
       "    .dataframe tbody tr th {\n",
       "        vertical-align: top;\n",
       "    }\n",
       "\n",
       "    .dataframe thead th {\n",
       "        text-align: right;\n",
       "    }\n",
       "</style>\n",
       "<table border=\"1\" class=\"dataframe\">\n",
       "  <thead>\n",
       "    <tr style=\"text-align: right;\">\n",
       "      <th></th>\n",
       "      <th>CRIM</th>\n",
       "      <th>ZN</th>\n",
       "      <th>INDUS</th>\n",
       "      <th>CHAS</th>\n",
       "      <th>NOX</th>\n",
       "      <th>RM</th>\n",
       "      <th>AGE</th>\n",
       "      <th>DIS</th>\n",
       "      <th>RAD</th>\n",
       "      <th>TAX</th>\n",
       "      <th>PTRATIO</th>\n",
       "      <th>B</th>\n",
       "      <th>LSTAT</th>\n",
       "    </tr>\n",
       "  </thead>\n",
       "  <tbody>\n",
       "    <tr>\n",
       "      <th>0</th>\n",
       "      <td>0.911839</td>\n",
       "      <td>-0.502419</td>\n",
       "      <td>1.072305</td>\n",
       "      <td>-0.256978</td>\n",
       "      <td>1.633548</td>\n",
       "      <td>0.486034</td>\n",
       "      <td>0.962774</td>\n",
       "      <td>-0.823477</td>\n",
       "      <td>1.655334</td>\n",
       "      <td>1.552100</td>\n",
       "      <td>0.808078</td>\n",
       "      <td>-2.842959</td>\n",
       "      <td>1.523203</td>\n",
       "    </tr>\n",
       "    <tr>\n",
       "      <th>1</th>\n",
       "      <td>-0.411727</td>\n",
       "      <td>-0.502419</td>\n",
       "      <td>-1.129795</td>\n",
       "      <td>-0.256978</td>\n",
       "      <td>-0.552451</td>\n",
       "      <td>1.028078</td>\n",
       "      <td>0.668619</td>\n",
       "      <td>-0.183274</td>\n",
       "      <td>-0.871371</td>\n",
       "      <td>-0.802704</td>\n",
       "      <td>-0.304174</td>\n",
       "      <td>0.427436</td>\n",
       "      <td>-0.995240</td>\n",
       "    </tr>\n",
       "    <tr>\n",
       "      <th>2</th>\n",
       "      <td>0.124583</td>\n",
       "      <td>-0.502419</td>\n",
       "      <td>1.072305</td>\n",
       "      <td>-0.256978</td>\n",
       "      <td>1.441946</td>\n",
       "      <td>-3.913414</td>\n",
       "      <td>0.725324</td>\n",
       "      <td>-1.075955</td>\n",
       "      <td>1.655334</td>\n",
       "      <td>1.552100</td>\n",
       "      <td>0.808078</td>\n",
       "      <td>-0.053353</td>\n",
       "      <td>-0.765646</td>\n",
       "    </tr>\n",
       "    <tr>\n",
       "      <th>3</th>\n",
       "      <td>-0.406208</td>\n",
       "      <td>0.839388</td>\n",
       "      <td>-0.901940</td>\n",
       "      <td>-0.256978</td>\n",
       "      <td>-1.083710</td>\n",
       "      <td>0.097426</td>\n",
       "      <td>-0.515087</td>\n",
       "      <td>1.600509</td>\n",
       "      <td>-0.411970</td>\n",
       "      <td>-0.624310</td>\n",
       "      <td>-0.860301</td>\n",
       "      <td>0.152292</td>\n",
       "      <td>-0.184576</td>\n",
       "    </tr>\n",
       "    <tr>\n",
       "      <th>4</th>\n",
       "      <td>0.021742</td>\n",
       "      <td>-0.502419</td>\n",
       "      <td>1.072305</td>\n",
       "      <td>-0.256978</td>\n",
       "      <td>1.398401</td>\n",
       "      <td>0.123238</td>\n",
       "      <td>0.743044</td>\n",
       "      <td>-0.605107</td>\n",
       "      <td>1.655334</td>\n",
       "      <td>1.552100</td>\n",
       "      <td>0.808078</td>\n",
       "      <td>0.365116</td>\n",
       "      <td>0.301538</td>\n",
       "    </tr>\n",
       "  </tbody>\n",
       "</table>\n",
       "</div>"
      ],
      "text/plain": [
       "       CRIM        ZN     INDUS      CHAS       NOX        RM       AGE  \\\n",
       "0  0.911839 -0.502419  1.072305 -0.256978  1.633548  0.486034  0.962774   \n",
       "1 -0.411727 -0.502419 -1.129795 -0.256978 -0.552451  1.028078  0.668619   \n",
       "2  0.124583 -0.502419  1.072305 -0.256978  1.441946 -3.913414  0.725324   \n",
       "3 -0.406208  0.839388 -0.901940 -0.256978 -1.083710  0.097426 -0.515087   \n",
       "4  0.021742 -0.502419  1.072305 -0.256978  1.398401  0.123238  0.743044   \n",
       "\n",
       "        DIS       RAD       TAX   PTRATIO         B     LSTAT  \n",
       "0 -0.823477  1.655334  1.552100  0.808078 -2.842959  1.523203  \n",
       "1 -0.183274 -0.871371 -0.802704 -0.304174  0.427436 -0.995240  \n",
       "2 -1.075955  1.655334  1.552100  0.808078 -0.053353 -0.765646  \n",
       "3  1.600509 -0.411970 -0.624310 -0.860301  0.152292 -0.184576  \n",
       "4 -0.605107  1.655334  1.552100  0.808078  0.365116  0.301538  "
      ]
     },
     "execution_count": 25,
     "metadata": {},
     "output_type": "execute_result"
    }
   ],
   "source": [
    "#create df for X_train data\n",
    "df1 = pd.DataFrame(X_train_std, columns=['CRIM','ZN', 'INDUS', 'CHAS', 'NOX', 'RM','AGE', 'DIS', 'RAD', 'TAX', 'PTRATIO',\n",
    " 'B', 'LSTAT'])\n",
    "#df.head(5)\n",
    "df1.head()"
   ]
  },
  {
   "cell_type": "code",
   "execution_count": 26,
   "metadata": {},
   "outputs": [
    {
     "data": {
      "text/html": [
       "<div>\n",
       "<style scoped>\n",
       "    .dataframe tbody tr th:only-of-type {\n",
       "        vertical-align: middle;\n",
       "    }\n",
       "\n",
       "    .dataframe tbody tr th {\n",
       "        vertical-align: top;\n",
       "    }\n",
       "\n",
       "    .dataframe thead th {\n",
       "        text-align: right;\n",
       "    }\n",
       "</style>\n",
       "<table border=\"1\" class=\"dataframe\">\n",
       "  <thead>\n",
       "    <tr style=\"text-align: right;\">\n",
       "      <th></th>\n",
       "      <th>PRICE</th>\n",
       "    </tr>\n",
       "  </thead>\n",
       "  <tbody>\n",
       "    <tr>\n",
       "      <th>0</th>\n",
       "      <td>-1.022679</td>\n",
       "    </tr>\n",
       "    <tr>\n",
       "      <th>1</th>\n",
       "      <td>0.118958</td>\n",
       "    </tr>\n",
       "    <tr>\n",
       "      <th>2</th>\n",
       "      <td>0.555465</td>\n",
       "    </tr>\n",
       "    <tr>\n",
       "      <th>3</th>\n",
       "      <td>-0.037738</td>\n",
       "    </tr>\n",
       "    <tr>\n",
       "      <th>4</th>\n",
       "      <td>-0.541401</td>\n",
       "    </tr>\n",
       "  </tbody>\n",
       "</table>\n",
       "</div>"
      ],
      "text/plain": [
       "      PRICE\n",
       "0 -1.022679\n",
       "1  0.118958\n",
       "2  0.555465\n",
       "3 -0.037738\n",
       "4 -0.541401"
      ]
     },
     "execution_count": 26,
     "metadata": {},
     "output_type": "execute_result"
    }
   ],
   "source": [
    "#create df for Y_train data\n",
    "df2=pd.DataFrame(Y_train_std, columns=['PRICE'])\n",
    "df2.head()"
   ]
  },
  {
   "cell_type": "code",
   "execution_count": 27,
   "metadata": {},
   "outputs": [
    {
     "data": {
      "text/html": [
       "<div>\n",
       "<style scoped>\n",
       "    .dataframe tbody tr th:only-of-type {\n",
       "        vertical-align: middle;\n",
       "    }\n",
       "\n",
       "    .dataframe tbody tr th {\n",
       "        vertical-align: top;\n",
       "    }\n",
       "\n",
       "    .dataframe thead th {\n",
       "        text-align: right;\n",
       "    }\n",
       "</style>\n",
       "<table border=\"1\" class=\"dataframe\">\n",
       "  <thead>\n",
       "    <tr style=\"text-align: right;\">\n",
       "      <th></th>\n",
       "      <th>CRIM</th>\n",
       "      <th>ZN</th>\n",
       "      <th>INDUS</th>\n",
       "      <th>CHAS</th>\n",
       "      <th>NOX</th>\n",
       "      <th>RM</th>\n",
       "      <th>AGE</th>\n",
       "      <th>DIS</th>\n",
       "      <th>RAD</th>\n",
       "      <th>TAX</th>\n",
       "      <th>PTRATIO</th>\n",
       "      <th>B</th>\n",
       "      <th>LSTAT</th>\n",
       "      <th>PRICE</th>\n",
       "    </tr>\n",
       "  </thead>\n",
       "  <tbody>\n",
       "    <tr>\n",
       "      <th>0</th>\n",
       "      <td>0.911839</td>\n",
       "      <td>-0.502419</td>\n",
       "      <td>1.072305</td>\n",
       "      <td>-0.256978</td>\n",
       "      <td>1.633548</td>\n",
       "      <td>0.486034</td>\n",
       "      <td>0.962774</td>\n",
       "      <td>-0.823477</td>\n",
       "      <td>1.655334</td>\n",
       "      <td>1.552100</td>\n",
       "      <td>0.808078</td>\n",
       "      <td>-2.842959</td>\n",
       "      <td>1.523203</td>\n",
       "      <td>-1.022679</td>\n",
       "    </tr>\n",
       "    <tr>\n",
       "      <th>1</th>\n",
       "      <td>-0.411727</td>\n",
       "      <td>-0.502419</td>\n",
       "      <td>-1.129795</td>\n",
       "      <td>-0.256978</td>\n",
       "      <td>-0.552451</td>\n",
       "      <td>1.028078</td>\n",
       "      <td>0.668619</td>\n",
       "      <td>-0.183274</td>\n",
       "      <td>-0.871371</td>\n",
       "      <td>-0.802704</td>\n",
       "      <td>-0.304174</td>\n",
       "      <td>0.427436</td>\n",
       "      <td>-0.995240</td>\n",
       "      <td>0.118958</td>\n",
       "    </tr>\n",
       "    <tr>\n",
       "      <th>2</th>\n",
       "      <td>0.124583</td>\n",
       "      <td>-0.502419</td>\n",
       "      <td>1.072305</td>\n",
       "      <td>-0.256978</td>\n",
       "      <td>1.441946</td>\n",
       "      <td>-3.913414</td>\n",
       "      <td>0.725324</td>\n",
       "      <td>-1.075955</td>\n",
       "      <td>1.655334</td>\n",
       "      <td>1.552100</td>\n",
       "      <td>0.808078</td>\n",
       "      <td>-0.053353</td>\n",
       "      <td>-0.765646</td>\n",
       "      <td>0.555465</td>\n",
       "    </tr>\n",
       "    <tr>\n",
       "      <th>3</th>\n",
       "      <td>-0.406208</td>\n",
       "      <td>0.839388</td>\n",
       "      <td>-0.901940</td>\n",
       "      <td>-0.256978</td>\n",
       "      <td>-1.083710</td>\n",
       "      <td>0.097426</td>\n",
       "      <td>-0.515087</td>\n",
       "      <td>1.600509</td>\n",
       "      <td>-0.411970</td>\n",
       "      <td>-0.624310</td>\n",
       "      <td>-0.860301</td>\n",
       "      <td>0.152292</td>\n",
       "      <td>-0.184576</td>\n",
       "      <td>-0.037738</td>\n",
       "    </tr>\n",
       "    <tr>\n",
       "      <th>4</th>\n",
       "      <td>0.021742</td>\n",
       "      <td>-0.502419</td>\n",
       "      <td>1.072305</td>\n",
       "      <td>-0.256978</td>\n",
       "      <td>1.398401</td>\n",
       "      <td>0.123238</td>\n",
       "      <td>0.743044</td>\n",
       "      <td>-0.605107</td>\n",
       "      <td>1.655334</td>\n",
       "      <td>1.552100</td>\n",
       "      <td>0.808078</td>\n",
       "      <td>0.365116</td>\n",
       "      <td>0.301538</td>\n",
       "      <td>-0.541401</td>\n",
       "    </tr>\n",
       "  </tbody>\n",
       "</table>\n",
       "</div>"
      ],
      "text/plain": [
       "       CRIM        ZN     INDUS      CHAS       NOX        RM       AGE  \\\n",
       "0  0.911839 -0.502419  1.072305 -0.256978  1.633548  0.486034  0.962774   \n",
       "1 -0.411727 -0.502419 -1.129795 -0.256978 -0.552451  1.028078  0.668619   \n",
       "2  0.124583 -0.502419  1.072305 -0.256978  1.441946 -3.913414  0.725324   \n",
       "3 -0.406208  0.839388 -0.901940 -0.256978 -1.083710  0.097426 -0.515087   \n",
       "4  0.021742 -0.502419  1.072305 -0.256978  1.398401  0.123238  0.743044   \n",
       "\n",
       "        DIS       RAD       TAX   PTRATIO         B     LSTAT     PRICE  \n",
       "0 -0.823477  1.655334  1.552100  0.808078 -2.842959  1.523203 -1.022679  \n",
       "1 -0.183274 -0.871371 -0.802704 -0.304174  0.427436 -0.995240  0.118958  \n",
       "2 -1.075955  1.655334  1.552100  0.808078 -0.053353 -0.765646  0.555465  \n",
       "3  1.600509 -0.411970 -0.624310 -0.860301  0.152292 -0.184576 -0.037738  \n",
       "4 -0.605107  1.655334  1.552100  0.808078  0.365116  0.301538 -0.541401  "
      ]
     },
     "execution_count": 27,
     "metadata": {},
     "output_type": "execute_result"
    }
   ],
   "source": [
    "#concatenate df1 & df2 to get train_data\n",
    "train_data=pd.concat([df1,df2],axis=1)\n",
    "train_data.head()"
   ]
  },
  {
   "cell_type": "code",
   "execution_count": 28,
   "metadata": {},
   "outputs": [
    {
     "data": {
      "text/plain": [
       "(339, 14)"
      ]
     },
     "execution_count": 28,
     "metadata": {},
     "output_type": "execute_result"
    }
   ],
   "source": [
    "train_data.shape"
   ]
  },
  {
   "cell_type": "code",
   "execution_count": 29,
   "metadata": {},
   "outputs": [
    {
     "data": {
      "text/plain": [
       "339"
      ]
     },
     "execution_count": 29,
     "metadata": {},
     "output_type": "execute_result"
    }
   ],
   "source": [
    "train_data.shape[0]"
   ]
  },
  {
   "cell_type": "markdown",
   "metadata": {},
   "source": [
    "#### 1.2.1.2 To create test_data"
   ]
  },
  {
   "cell_type": "code",
   "execution_count": 30,
   "metadata": {},
   "outputs": [
    {
     "data": {
      "text/html": [
       "<div>\n",
       "<style scoped>\n",
       "    .dataframe tbody tr th:only-of-type {\n",
       "        vertical-align: middle;\n",
       "    }\n",
       "\n",
       "    .dataframe tbody tr th {\n",
       "        vertical-align: top;\n",
       "    }\n",
       "\n",
       "    .dataframe thead th {\n",
       "        text-align: right;\n",
       "    }\n",
       "</style>\n",
       "<table border=\"1\" class=\"dataframe\">\n",
       "  <thead>\n",
       "    <tr style=\"text-align: right;\">\n",
       "      <th></th>\n",
       "      <th>CRIM</th>\n",
       "      <th>ZN</th>\n",
       "      <th>INDUS</th>\n",
       "      <th>CHAS</th>\n",
       "      <th>NOX</th>\n",
       "      <th>RM</th>\n",
       "      <th>AGE</th>\n",
       "      <th>DIS</th>\n",
       "      <th>RAD</th>\n",
       "      <th>TAX</th>\n",
       "      <th>PTRATIO</th>\n",
       "      <th>B</th>\n",
       "      <th>LSTAT</th>\n",
       "    </tr>\n",
       "  </thead>\n",
       "  <tbody>\n",
       "    <tr>\n",
       "      <th>0</th>\n",
       "      <td>-0.372923</td>\n",
       "      <td>-0.502419</td>\n",
       "      <td>-0.711561</td>\n",
       "      <td>-0.256978</td>\n",
       "      <td>-0.421814</td>\n",
       "      <td>2.509379</td>\n",
       "      <td>0.675707</td>\n",
       "      <td>-0.284956</td>\n",
       "      <td>-0.182270</td>\n",
       "      <td>-0.582684</td>\n",
       "      <td>-0.489550</td>\n",
       "      <td>0.318974</td>\n",
       "      <td>-1.331126</td>\n",
       "    </tr>\n",
       "    <tr>\n",
       "      <th>1</th>\n",
       "      <td>-0.414165</td>\n",
       "      <td>3.075732</td>\n",
       "      <td>-0.898942</td>\n",
       "      <td>-0.256978</td>\n",
       "      <td>-1.231765</td>\n",
       "      <td>0.487468</td>\n",
       "      <td>-1.560575</td>\n",
       "      <td>0.653383</td>\n",
       "      <td>-0.641670</td>\n",
       "      <td>-0.951366</td>\n",
       "      <td>0.344640</td>\n",
       "      <td>0.427436</td>\n",
       "      <td>-1.108619</td>\n",
       "    </tr>\n",
       "    <tr>\n",
       "      <th>2</th>\n",
       "      <td>-0.412891</td>\n",
       "      <td>-0.502419</td>\n",
       "      <td>-1.129795</td>\n",
       "      <td>-0.256978</td>\n",
       "      <td>-0.552451</td>\n",
       "      <td>0.182031</td>\n",
       "      <td>-0.047275</td>\n",
       "      <td>-0.345867</td>\n",
       "      <td>-0.871371</td>\n",
       "      <td>-0.802704</td>\n",
       "      <td>-0.304174</td>\n",
       "      <td>0.373661</td>\n",
       "      <td>-0.526132</td>\n",
       "    </tr>\n",
       "    <tr>\n",
       "      <th>3</th>\n",
       "      <td>0.905605</td>\n",
       "      <td>-0.502419</td>\n",
       "      <td>1.072305</td>\n",
       "      <td>-0.256978</td>\n",
       "      <td>1.006488</td>\n",
       "      <td>-1.984712</td>\n",
       "      <td>1.154151</td>\n",
       "      <td>-1.292647</td>\n",
       "      <td>1.655334</td>\n",
       "      <td>1.552100</td>\n",
       "      <td>0.808078</td>\n",
       "      <td>0.427436</td>\n",
       "      <td>3.153033</td>\n",
       "    </tr>\n",
       "    <tr>\n",
       "      <th>4</th>\n",
       "      <td>-0.392026</td>\n",
       "      <td>0.392119</td>\n",
       "      <td>-0.597633</td>\n",
       "      <td>3.891382</td>\n",
       "      <td>-0.770180</td>\n",
       "      <td>2.008920</td>\n",
       "      <td>-0.554071</td>\n",
       "      <td>0.283082</td>\n",
       "      <td>-0.756521</td>\n",
       "      <td>-1.082188</td>\n",
       "      <td>0.066577</td>\n",
       "      <td>0.357596</td>\n",
       "      <td>-0.842177</td>\n",
       "    </tr>\n",
       "  </tbody>\n",
       "</table>\n",
       "</div>"
      ],
      "text/plain": [
       "       CRIM        ZN     INDUS      CHAS       NOX        RM       AGE  \\\n",
       "0 -0.372923 -0.502419 -0.711561 -0.256978 -0.421814  2.509379  0.675707   \n",
       "1 -0.414165  3.075732 -0.898942 -0.256978 -1.231765  0.487468 -1.560575   \n",
       "2 -0.412891 -0.502419 -1.129795 -0.256978 -0.552451  0.182031 -0.047275   \n",
       "3  0.905605 -0.502419  1.072305 -0.256978  1.006488 -1.984712  1.154151   \n",
       "4 -0.392026  0.392119 -0.597633  3.891382 -0.770180  2.008920 -0.554071   \n",
       "\n",
       "        DIS       RAD       TAX   PTRATIO         B     LSTAT  \n",
       "0 -0.284956 -0.182270 -0.582684 -0.489550  0.318974 -1.331126  \n",
       "1  0.653383 -0.641670 -0.951366  0.344640  0.427436 -1.108619  \n",
       "2 -0.345867 -0.871371 -0.802704 -0.304174  0.373661 -0.526132  \n",
       "3 -1.292647  1.655334  1.552100  0.808078  0.427436  3.153033  \n",
       "4  0.283082 -0.756521 -1.082188  0.066577  0.357596 -0.842177  "
      ]
     },
     "execution_count": 30,
     "metadata": {},
     "output_type": "execute_result"
    }
   ],
   "source": [
    "#create df for X_test data\n",
    "df3 = pd.DataFrame(X_test_std, columns=['CRIM','ZN', 'INDUS', 'CHAS', 'NOX', 'RM','AGE', 'DIS', 'RAD', 'TAX', 'PTRATIO',\n",
    " 'B', 'LSTAT'])\n",
    "df3.head()"
   ]
  },
  {
   "cell_type": "code",
   "execution_count": 31,
   "metadata": {},
   "outputs": [
    {
     "data": {
      "text/html": [
       "<div>\n",
       "<style scoped>\n",
       "    .dataframe tbody tr th:only-of-type {\n",
       "        vertical-align: middle;\n",
       "    }\n",
       "\n",
       "    .dataframe tbody tr th {\n",
       "        vertical-align: top;\n",
       "    }\n",
       "\n",
       "    .dataframe thead th {\n",
       "        text-align: right;\n",
       "    }\n",
       "</style>\n",
       "<table border=\"1\" class=\"dataframe\">\n",
       "  <thead>\n",
       "    <tr style=\"text-align: right;\">\n",
       "      <th></th>\n",
       "      <th>PRICE</th>\n",
       "    </tr>\n",
       "  </thead>\n",
       "  <tbody>\n",
       "    <tr>\n",
       "      <th>0</th>\n",
       "      <td>1.685909</td>\n",
       "    </tr>\n",
       "    <tr>\n",
       "      <th>1</th>\n",
       "      <td>0.600236</td>\n",
       "    </tr>\n",
       "    <tr>\n",
       "      <th>2</th>\n",
       "      <td>0.007032</td>\n",
       "    </tr>\n",
       "    <tr>\n",
       "      <th>3</th>\n",
       "      <td>-0.977908</td>\n",
       "    </tr>\n",
       "    <tr>\n",
       "      <th>4</th>\n",
       "      <td>1.417289</td>\n",
       "    </tr>\n",
       "  </tbody>\n",
       "</table>\n",
       "</div>"
      ],
      "text/plain": [
       "      PRICE\n",
       "0  1.685909\n",
       "1  0.600236\n",
       "2  0.007032\n",
       "3 -0.977908\n",
       "4  1.417289"
      ]
     },
     "execution_count": 31,
     "metadata": {},
     "output_type": "execute_result"
    }
   ],
   "source": [
    "#create df for Y_test data\n",
    "df4=pd.DataFrame(Y_test_std, columns=['PRICE'])\n",
    "df4.head()"
   ]
  },
  {
   "cell_type": "code",
   "execution_count": 32,
   "metadata": {},
   "outputs": [
    {
     "data": {
      "text/html": [
       "<div>\n",
       "<style scoped>\n",
       "    .dataframe tbody tr th:only-of-type {\n",
       "        vertical-align: middle;\n",
       "    }\n",
       "\n",
       "    .dataframe tbody tr th {\n",
       "        vertical-align: top;\n",
       "    }\n",
       "\n",
       "    .dataframe thead th {\n",
       "        text-align: right;\n",
       "    }\n",
       "</style>\n",
       "<table border=\"1\" class=\"dataframe\">\n",
       "  <thead>\n",
       "    <tr style=\"text-align: right;\">\n",
       "      <th></th>\n",
       "      <th>CRIM</th>\n",
       "      <th>ZN</th>\n",
       "      <th>INDUS</th>\n",
       "      <th>CHAS</th>\n",
       "      <th>NOX</th>\n",
       "      <th>RM</th>\n",
       "      <th>AGE</th>\n",
       "      <th>DIS</th>\n",
       "      <th>RAD</th>\n",
       "      <th>TAX</th>\n",
       "      <th>PTRATIO</th>\n",
       "      <th>B</th>\n",
       "      <th>LSTAT</th>\n",
       "      <th>PRICE</th>\n",
       "    </tr>\n",
       "  </thead>\n",
       "  <tbody>\n",
       "    <tr>\n",
       "      <th>0</th>\n",
       "      <td>-0.372923</td>\n",
       "      <td>-0.502419</td>\n",
       "      <td>-0.711561</td>\n",
       "      <td>-0.256978</td>\n",
       "      <td>-0.421814</td>\n",
       "      <td>2.509379</td>\n",
       "      <td>0.675707</td>\n",
       "      <td>-0.284956</td>\n",
       "      <td>-0.182270</td>\n",
       "      <td>-0.582684</td>\n",
       "      <td>-0.489550</td>\n",
       "      <td>0.318974</td>\n",
       "      <td>-1.331126</td>\n",
       "      <td>1.685909</td>\n",
       "    </tr>\n",
       "    <tr>\n",
       "      <th>1</th>\n",
       "      <td>-0.414165</td>\n",
       "      <td>3.075732</td>\n",
       "      <td>-0.898942</td>\n",
       "      <td>-0.256978</td>\n",
       "      <td>-1.231765</td>\n",
       "      <td>0.487468</td>\n",
       "      <td>-1.560575</td>\n",
       "      <td>0.653383</td>\n",
       "      <td>-0.641670</td>\n",
       "      <td>-0.951366</td>\n",
       "      <td>0.344640</td>\n",
       "      <td>0.427436</td>\n",
       "      <td>-1.108619</td>\n",
       "      <td>0.600236</td>\n",
       "    </tr>\n",
       "    <tr>\n",
       "      <th>2</th>\n",
       "      <td>-0.412891</td>\n",
       "      <td>-0.502419</td>\n",
       "      <td>-1.129795</td>\n",
       "      <td>-0.256978</td>\n",
       "      <td>-0.552451</td>\n",
       "      <td>0.182031</td>\n",
       "      <td>-0.047275</td>\n",
       "      <td>-0.345867</td>\n",
       "      <td>-0.871371</td>\n",
       "      <td>-0.802704</td>\n",
       "      <td>-0.304174</td>\n",
       "      <td>0.373661</td>\n",
       "      <td>-0.526132</td>\n",
       "      <td>0.007032</td>\n",
       "    </tr>\n",
       "    <tr>\n",
       "      <th>3</th>\n",
       "      <td>0.905605</td>\n",
       "      <td>-0.502419</td>\n",
       "      <td>1.072305</td>\n",
       "      <td>-0.256978</td>\n",
       "      <td>1.006488</td>\n",
       "      <td>-1.984712</td>\n",
       "      <td>1.154151</td>\n",
       "      <td>-1.292647</td>\n",
       "      <td>1.655334</td>\n",
       "      <td>1.552100</td>\n",
       "      <td>0.808078</td>\n",
       "      <td>0.427436</td>\n",
       "      <td>3.153033</td>\n",
       "      <td>-0.977908</td>\n",
       "    </tr>\n",
       "    <tr>\n",
       "      <th>4</th>\n",
       "      <td>-0.392026</td>\n",
       "      <td>0.392119</td>\n",
       "      <td>-0.597633</td>\n",
       "      <td>3.891382</td>\n",
       "      <td>-0.770180</td>\n",
       "      <td>2.008920</td>\n",
       "      <td>-0.554071</td>\n",
       "      <td>0.283082</td>\n",
       "      <td>-0.756521</td>\n",
       "      <td>-1.082188</td>\n",
       "      <td>0.066577</td>\n",
       "      <td>0.357596</td>\n",
       "      <td>-0.842177</td>\n",
       "      <td>1.417289</td>\n",
       "    </tr>\n",
       "  </tbody>\n",
       "</table>\n",
       "</div>"
      ],
      "text/plain": [
       "       CRIM        ZN     INDUS      CHAS       NOX        RM       AGE  \\\n",
       "0 -0.372923 -0.502419 -0.711561 -0.256978 -0.421814  2.509379  0.675707   \n",
       "1 -0.414165  3.075732 -0.898942 -0.256978 -1.231765  0.487468 -1.560575   \n",
       "2 -0.412891 -0.502419 -1.129795 -0.256978 -0.552451  0.182031 -0.047275   \n",
       "3  0.905605 -0.502419  1.072305 -0.256978  1.006488 -1.984712  1.154151   \n",
       "4 -0.392026  0.392119 -0.597633  3.891382 -0.770180  2.008920 -0.554071   \n",
       "\n",
       "        DIS       RAD       TAX   PTRATIO         B     LSTAT     PRICE  \n",
       "0 -0.284956 -0.182270 -0.582684 -0.489550  0.318974 -1.331126  1.685909  \n",
       "1  0.653383 -0.641670 -0.951366  0.344640  0.427436 -1.108619  0.600236  \n",
       "2 -0.345867 -0.871371 -0.802704 -0.304174  0.373661 -0.526132  0.007032  \n",
       "3 -1.292647  1.655334  1.552100  0.808078  0.427436  3.153033 -0.977908  \n",
       "4  0.283082 -0.756521 -1.082188  0.066577  0.357596 -0.842177  1.417289  "
      ]
     },
     "execution_count": 32,
     "metadata": {},
     "output_type": "execute_result"
    }
   ],
   "source": [
    "#concatenate df3 & df4 to get test_data\n",
    "test_data=pd.concat([df3,df4],axis=1)\n",
    "test_data.head()"
   ]
  },
  {
   "cell_type": "code",
   "execution_count": 33,
   "metadata": {},
   "outputs": [
    {
     "data": {
      "text/plain": [
       "(167, 14)"
      ]
     },
     "execution_count": 33,
     "metadata": {},
     "output_type": "execute_result"
    }
   ],
   "source": [
    "test_data.shape"
   ]
  },
  {
   "cell_type": "markdown",
   "metadata": {},
   "source": [
    "## 2. Implementing own version of SGD"
   ]
  },
  {
   "cell_type": "markdown",
   "metadata": {},
   "source": [
    "#### Reference: https://machinelearningmastery.com/implement-linear-regression-stochastic-gradient-descent-scratch-python/"
   ]
  },
  {
   "cell_type": "markdown",
   "metadata": {},
   "source": [
    "### 2.1 To find best coefficients from Train data"
   ]
  },
  {
   "cell_type": "code",
   "execution_count": 34,
   "metadata": {},
   "outputs": [],
   "source": [
    "# Make a prediction with coefficients\n",
    "def predict(row, coefficients):\n",
    "    yhat = coefficients[0]\n",
    "    for i in range(len(row)-1):\n",
    "        yhat += coefficients[i + 1] * row[i]\n",
    "    return yhat"
   ]
  },
  {
   "cell_type": "code",
   "execution_count": 35,
   "metadata": {
    "scrolled": false
   },
   "outputs": [
    {
     "name": "stdout",
     "output_type": "stream",
     "text": [
      "For epoch=0:, lrate=0.01000000 error=0.357\n",
      "For epoch=1:, lrate=0.00500000 error=0.280\n",
      "For epoch=2:, lrate=0.00250000 error=0.266\n",
      "For epoch=3:, lrate=0.00125000 error=0.259\n",
      "For epoch=4:, lrate=0.00062500 error=0.255\n",
      "For epoch=5:, lrate=0.00031250 error=0.253\n",
      "For epoch=6:, lrate=0.00015625 error=0.252\n",
      "For epoch=7:, lrate=0.00007813 error=0.252\n",
      "For epoch=8:, lrate=0.00003906 error=0.252\n",
      "For epoch=9:, lrate=0.00001953 error=0.251\n",
      "For epoch=10:, lrate=0.00000977 error=0.251\n",
      "For epoch=11:, lrate=0.00000488 error=0.251\n",
      "For epoch=12:, lrate=0.00000244 error=0.251\n",
      "For epoch=13:, lrate=0.00000122 error=0.251\n",
      "For epoch=14:, lrate=0.00000061 error=0.251\n",
      "For epoch=15:, lrate=0.00000031 error=0.251\n",
      "For epoch=16:, lrate=0.00000015 error=0.251\n",
      "For epoch=17:, lrate=0.00000008 error=0.251\n",
      "For epoch=18:, lrate=0.00000004 error=0.251\n",
      "For epoch=19:, lrate=0.00000002 error=0.251\n",
      "For epoch=20:, lrate=0.00000001 error=0.251\n",
      "For epoch=21:, lrate=0.00000000 error=0.251\n",
      "For epoch=22:, lrate=0.00000000 error=0.251\n",
      "For epoch=23:, lrate=0.00000000 error=0.251\n",
      "For epoch=24:, lrate=0.00000000 error=0.251\n",
      "For epoch=25:, lrate=0.00000000 error=0.251\n",
      "For epoch=26:, lrate=0.00000000 error=0.251\n",
      "For epoch=27:, lrate=0.00000000 error=0.251\n",
      "For epoch=28:, lrate=0.00000000 error=0.251\n",
      "For epoch=29:, lrate=0.00000000 error=0.251\n",
      "For epoch=30:, lrate=0.00000000 error=0.251\n",
      "For epoch=31:, lrate=0.00000000 error=0.251\n",
      "For epoch=32:, lrate=0.00000000 error=0.251\n",
      "For epoch=33:, lrate=0.00000000 error=0.251\n",
      "For epoch=34:, lrate=0.00000000 error=0.251\n",
      "For epoch=35:, lrate=0.00000000 error=0.251\n",
      "For epoch=36:, lrate=0.00000000 error=0.251\n",
      "For epoch=37:, lrate=0.00000000 error=0.251\n",
      "For epoch=38:, lrate=0.00000000 error=0.251\n",
      "For epoch=39:, lrate=0.00000000 error=0.251\n",
      "For epoch=40:, lrate=0.00000000 error=0.251\n",
      "For epoch=41:, lrate=0.00000000 error=0.251\n",
      "For epoch=42:, lrate=0.00000000 error=0.251\n",
      "For epoch=43:, lrate=0.00000000 error=0.251\n",
      "For epoch=44:, lrate=0.00000000 error=0.251\n",
      "For epoch=45:, lrate=0.00000000 error=0.251\n",
      "For epoch=46:, lrate=0.00000000 error=0.251\n",
      "For epoch=47:, lrate=0.00000000 error=0.251\n",
      "For epoch=48:, lrate=0.00000000 error=0.251\n",
      "For epoch=49:, lrate=0.00000000 error=0.251\n",
      "For epoch=50:, lrate=0.00000000 error=0.251\n",
      "For epoch=51:, lrate=0.00000000 error=0.251\n",
      "For epoch=52:, lrate=0.00000000 error=0.251\n",
      "For epoch=53:, lrate=0.00000000 error=0.251\n",
      "For epoch=54:, lrate=0.00000000 error=0.251\n",
      "For epoch=55:, lrate=0.00000000 error=0.251\n",
      "For epoch=56:, lrate=0.00000000 error=0.251\n",
      "For epoch=57:, lrate=0.00000000 error=0.251\n",
      "For epoch=58:, lrate=0.00000000 error=0.251\n",
      "For epoch=59:, lrate=0.00000000 error=0.251\n",
      "For epoch=60:, lrate=0.00000000 error=0.251\n",
      "For epoch=61:, lrate=0.00000000 error=0.251\n",
      "For epoch=62:, lrate=0.00000000 error=0.251\n",
      "For epoch=63:, lrate=0.00000000 error=0.251\n",
      "For epoch=64:, lrate=0.00000000 error=0.251\n",
      "For epoch=65:, lrate=0.00000000 error=0.251\n",
      "For epoch=66:, lrate=0.00000000 error=0.251\n",
      "For epoch=67:, lrate=0.00000000 error=0.251\n",
      "For epoch=68:, lrate=0.00000000 error=0.251\n",
      "For epoch=69:, lrate=0.00000000 error=0.251\n",
      "For epoch=70:, lrate=0.00000000 error=0.251\n",
      "For epoch=71:, lrate=0.00000000 error=0.251\n",
      "For epoch=72:, lrate=0.00000000 error=0.251\n",
      "For epoch=73:, lrate=0.00000000 error=0.251\n",
      "For epoch=74:, lrate=0.00000000 error=0.251\n",
      "For epoch=75:, lrate=0.00000000 error=0.251\n",
      "For epoch=76:, lrate=0.00000000 error=0.251\n",
      "For epoch=77:, lrate=0.00000000 error=0.251\n",
      "For epoch=78:, lrate=0.00000000 error=0.251\n",
      "For epoch=79:, lrate=0.00000000 error=0.251\n",
      "For epoch=80:, lrate=0.00000000 error=0.251\n",
      "For epoch=81:, lrate=0.00000000 error=0.251\n",
      "For epoch=82:, lrate=0.00000000 error=0.251\n",
      "For epoch=83:, lrate=0.00000000 error=0.251\n",
      "For epoch=84:, lrate=0.00000000 error=0.251\n",
      "For epoch=85:, lrate=0.00000000 error=0.251\n",
      "For epoch=86:, lrate=0.00000000 error=0.251\n",
      "For epoch=87:, lrate=0.00000000 error=0.251\n",
      "For epoch=88:, lrate=0.00000000 error=0.251\n",
      "For epoch=89:, lrate=0.00000000 error=0.251\n",
      "For epoch=90:, lrate=0.00000000 error=0.251\n",
      "For epoch=91:, lrate=0.00000000 error=0.251\n",
      "For epoch=92:, lrate=0.00000000 error=0.251\n",
      "For epoch=93:, lrate=0.00000000 error=0.251\n",
      "For epoch=94:, lrate=0.00000000 error=0.251\n",
      "For epoch=95:, lrate=0.00000000 error=0.251\n",
      "For epoch=96:, lrate=0.00000000 error=0.251\n",
      "For epoch=97:, lrate=0.00000000 error=0.251\n",
      "For epoch=98:, lrate=0.00000000 error=0.251\n",
      "For epoch=99:, lrate=0.00000000 error=0.251\n",
      "[0.009077332087515743, -0.13781089229710045, 0.06235467361715586, -0.06610829067584187, 0.03282518890559946, -0.09966629740611256, 0.35116571573234956, -0.05186144061840854, -0.24722673627286096, 0.14194842039861835, -0.07707901958214271, -0.2278706710881424, 0.10383646506196041, -0.3458928188117475]\n"
     ]
    }
   ],
   "source": [
    "# Estimate linear regression coefficients for train data using stochastic gradient descent\n",
    "\n",
    "def coefficients_sgd(train, l_rate, n_epoch):\n",
    "    MSE_list=[]\n",
    "    coef = [0.0 for i in range(14)]\n",
    "    for epoch in range(n_epoch):\n",
    "        sum_error = 0\n",
    "        for row in (train.values):\n",
    "            yhat = predict(row, coef)\n",
    "            error = yhat - row[-1]\n",
    "            sum_error += error**2\n",
    "            coef[0] = coef[0] - l_rate * error #corresponds to b0 or w0\n",
    "            for i in range(len(row)-1):\n",
    "                coef[i + 1] = coef[i + 1] - l_rate * error * row[i] #corresponds to bi or wi\n",
    "        print('For epoch=%d:, lrate=%.8f error=%.3f' % (epoch,l_rate,((sum_error)/train_data.shape[0])))\n",
    "        l_rate=l_rate/2;\n",
    "        MSE_list.append((sum_error)/(train_data.shape[0]))\n",
    "    return coef, MSE_list\n",
    "\n",
    "# Calculate coefficients\n",
    "dataset = train_data\n",
    "l_rate = 0.01\n",
    "n_epoch = 100\n",
    "coef, MSE_list = coefficients_sgd(dataset, l_rate, n_epoch)\n",
    "print(coef)"
   ]
  },
  {
   "cell_type": "markdown",
   "metadata": {},
   "source": [
    "### 2.2 Plotting Epochs vs Mean squared error(MSE)"
   ]
  },
  {
   "cell_type": "code",
   "execution_count": 36,
   "metadata": {
    "scrolled": true
   },
   "outputs": [
    {
     "data": {
      "image/png": "[encoded data removed]",
      "text/plain": [
       "<Figure size 432x288 with 1 Axes>"
      ]
     },
     "metadata": {},
     "output_type": "display_data"
    }
   ],
   "source": [
    "#Plot of epochs vs Mean squared error\n",
    "\n",
    "plt.plot(range(0,100), MSE_list)\n",
    "plt.xlabel(\"Epochs\")\n",
    "plt.ylabel(\"MSE\")\n",
    "plt.title(\"Epochs vs MSE- SGD Implemented\")\n",
    "plt.show()"
   ]
  },
  {
   "cell_type": "code",
   "execution_count": 37,
   "metadata": {},
   "outputs": [
    {
     "name": "stdout",
     "output_type": "stream",
     "text": [
      "For epoch=0:, lrate=0.01000000 error=0.357\n",
      "For epoch=1:, lrate=0.00500000 error=0.280\n",
      "For epoch=2:, lrate=0.00250000 error=0.266\n",
      "For epoch=3:, lrate=0.00125000 error=0.259\n",
      "For epoch=4:, lrate=0.00062500 error=0.255\n",
      "For epoch=5:, lrate=0.00031250 error=0.253\n",
      "For epoch=6:, lrate=0.00015625 error=0.252\n",
      "[0.009558946531683554, -0.13818718767629987, 0.06243946570609928, -0.06653276256328082, 0.033085987060484955, -0.09943414546086045, 0.3517830179893913, -0.05210974376059008, -0.24617355920767672, 0.14098947216684204, -0.0769546176730711, -0.22803779179897943, 0.10347864673326172, -0.34579382098720907]\n"
     ]
    }
   ],
   "source": [
    "# To get the coefficients when there is not much of change in the error\n",
    "dataset = train_data\n",
    "l_rate = 0.01\n",
    "n_epoch = 7\n",
    "coef,MSE_list = coefficients_sgd(dataset, l_rate, n_epoch)\n",
    "print(coef)"
   ]
  },
  {
   "cell_type": "code",
   "execution_count": 38,
   "metadata": {},
   "outputs": [
    {
     "data": {
      "text/plain": [
       "[0.009558946531683554,\n",
       " -0.13818718767629987,\n",
       " 0.06243946570609928,\n",
       " -0.06653276256328082,\n",
       " 0.033085987060484955,\n",
       " -0.09943414546086045,\n",
       " 0.3517830179893913,\n",
       " -0.05210974376059008,\n",
       " -0.24617355920767672,\n",
       " 0.14098947216684204,\n",
       " -0.0769546176730711,\n",
       " -0.22803779179897943,\n",
       " 0.10347864673326172,\n",
       " -0.34579382098720907]"
      ]
     },
     "execution_count": 38,
     "metadata": {},
     "output_type": "execute_result"
    }
   ],
   "source": [
    "coefficients_test=coef #assigning the best coefficients that are to be used for testing purpose\n",
    "coefficients_test"
   ]
  },
  {
   "cell_type": "markdown",
   "metadata": {},
   "source": [
    "### 2.3 Applying the best coefficients on test data"
   ]
  },
  {
   "cell_type": "code",
   "execution_count": 110,
   "metadata": {},
   "outputs": [],
   "source": [
    "def test_sgd(data, l_rate,coef):\n",
    "    '''\n",
    "    Function that returns the Mean squared error[MSE] and the list of predicted values for test data.\n",
    "\n",
    "    '''\n",
    "    best_coef=coef\n",
    "    sum_error = 0\n",
    "    pred=[];\n",
    "    for row in (data.values):\n",
    "        yhat = predict(row, best_coef)\n",
    "        error = yhat - row[-1]\n",
    "        sum_error += error**2\n",
    "        MSE=sum_error/data.shape[0]\n",
    "        pred.append(yhat)\n",
    "    return MSE,pred"
   ]
  },
  {
   "cell_type": "code",
   "execution_count": 111,
   "metadata": {},
   "outputs": [
    {
     "name": "stdout",
     "output_type": "stream",
     "text": [
      "The MSE for test data using custom implemented SGD is:0.3678398415588903\n"
     ]
    }
   ],
   "source": [
    "# Applying best learning rate & coefficients on test data\n",
    "\n",
    "dataset = test_data\n",
    "l_rate = 0.0002\n",
    "MSE,pred = test_sgd(dataset, l_rate,coefficients_test)\n",
    "print(f'The MSE for test data using custom implemented SGD is:{MSE}')"
   ]
  },
  {
   "cell_type": "markdown",
   "metadata": {},
   "source": [
    "### 2.4 Converting standardized outputs to original outputs using inverse_transform attribute"
   ]
  },
  {
   "cell_type": "code",
   "execution_count": null,
   "metadata": {},
   "outputs": [],
   "source": [
    "sq_error= [i[0] for i in ((act_or-pred_or)**2)]\n",
    "#print(sq_error)\n",
    "MSE=sum(sq_error)/Y_test_std.shape[0]\n",
    "print(f'The MSE for original test data using sklearn version of SGD is:{MSE}')"
   ]
  },
  {
   "cell_type": "code",
   "execution_count": 116,
   "metadata": {},
   "outputs": [
    {
     "name": "stdout",
     "output_type": "stream",
     "text": [
      "The MSE for original test data using custom implemented SGD is:29.363224079377503\n"
     ]
    }
   ],
   "source": [
    "pred_or=scaler2.inverse_transform(pred)\n",
    "pred_or=pred_or.reshape(-1,1)\n",
    "\n",
    "act_or=scaler2.inverse_transform(Y_test_std)\n",
    "\n",
    "sq_error= [i[0] for i in ((act_or-pred_or)**2)] #using list comprehension\n",
    "\n",
    "MSE=sum(sq_error)/Y_test_std.shape[0]\n",
    "print(f'The MSE for original test data using custom implemented SGD is:{MSE}')"
   ]
  },
  {
   "cell_type": "markdown",
   "metadata": {},
   "source": [
    "### 2.5 Plotting Actual vs Predicted values for test data"
   ]
  },
  {
   "cell_type": "code",
   "execution_count": 117,
   "metadata": {
    "scrolled": true
   },
   "outputs": [
    {
     "data": {
      "image/png": "[encoded data removed]",
      "text/plain": [
       "<Figure size 432x288 with 1 Axes>"
      ]
     },
     "metadata": {},
     "output_type": "display_data"
    }
   ],
   "source": [
    "plt.scatter(act_or, pred_or)\n",
    "plt.xlabel(\"Actual\")\n",
    "plt.ylabel(\"Predicted\")\n",
    "plt.title(\"Actual vs Predicted values- SGD Implemented\")\n",
    "plt.show()"
   ]
  },
  {
   "cell_type": "markdown",
   "metadata": {},
   "source": [
    "## 3. Scikit learn version of SGD"
   ]
  },
  {
   "cell_type": "markdown",
   "metadata": {},
   "source": [
    "### 3.1 Applying SGD"
   ]
  },
  {
   "cell_type": "code",
   "execution_count": 105,
   "metadata": {},
   "outputs": [
    {
     "name": "stdout",
     "output_type": "stream",
     "text": [
      "The MSE for standardized test data using sklearn version of SGD is:0.36072161627698773\n"
     ]
    }
   ],
   "source": [
    "from sklearn.linear_model import SGDRegressor\n",
    "from sklearn.metrics import mean_squared_error\n",
    "\n",
    "reg = SGDRegressor(loss='squared_loss',max_iter=100, alpha=0.0001, tol=.0001,learning_rate='invscaling')\n",
    "\n",
    "reg.fit (X_train_std, Y_train_std)\n",
    "\n",
    "yhat=reg.predict(X_test_std)\n",
    "\n",
    "MSE=mean_squared_error(Y_test_std,yhat)\n",
    "\n",
    "print(f'The MSE for standardized test data using sklearn version of SGD is:{MSE}')"
   ]
  },
  {
   "cell_type": "markdown",
   "metadata": {},
   "source": [
    "### 3.2 Converting standardized outputs to original outputs using inverse_transform attribute"
   ]
  },
  {
   "cell_type": "code",
   "execution_count": 106,
   "metadata": {},
   "outputs": [
    {
     "name": "stdout",
     "output_type": "stream",
     "text": [
      "The MSE for original test data using sklearn version of SGD is:28.79500383680074\n"
     ]
    }
   ],
   "source": [
    "yhat_=yhat.reshape(-1,1)\n",
    "#print(yhat_.shape)\n",
    "#print(Y_test_std.shape)\n",
    "pred_or=scaler2.inverse_transform(yhat_)\n",
    "#print(pred_or)\n",
    "act_or=scaler2.inverse_transform(Y_test_std)\n",
    "#print(act_or)\n",
    "sq_error= [i[0] for i in ((act_or-pred_or)**2)]\n",
    "#print(sq_error)\n",
    "MSE=sum(sq_error)/Y_test_std.shape[0]\n",
    "print(f'The MSE for original test data using sklearn version of SGD is:{MSE}')"
   ]
  },
  {
   "cell_type": "markdown",
   "metadata": {},
   "source": [
    "### 3.3 Co-efficients & intercept"
   ]
  },
  {
   "cell_type": "code",
   "execution_count": 107,
   "metadata": {
    "scrolled": true
   },
   "outputs": [
    {
     "name": "stdout",
     "output_type": "stream",
     "text": [
      "[-0.13847363  0.08209953 -0.05357241  0.02511937 -0.1476366   0.32158284\n",
      " -0.04633332 -0.29991421  0.20889573 -0.12852264 -0.23329494  0.1176353\n",
      " -0.37131385]\n",
      "Intercept= [6.66425325e-05]\n"
     ]
    }
   ],
   "source": [
    "coefs=reg.coef_\n",
    "print(coefs)\n",
    "w0=reg.intercept_\n",
    "print('Intercept=',w0)"
   ]
  },
  {
   "cell_type": "markdown",
   "metadata": {},
   "source": [
    "### 3.4 Plotting Actual vs Predicted values"
   ]
  },
  {
   "cell_type": "code",
   "execution_count": 109,
   "metadata": {
    "scrolled": true
   },
   "outputs": [
    {
     "data": {
      "image/png": "[encoded data removed]",
      "text/plain": [
       "<Figure size 432x288 with 1 Axes>"
      ]
     },
     "metadata": {},
     "output_type": "display_data"
    }
   ],
   "source": [
    "plt.scatter(act_or, pred_or)\n",
    "plt.xlabel(\"Actual\")\n",
    "plt.ylabel(\"Predicted\")\n",
    "plt.title(\"Actual vs Predicted values- SGD Implemented using sklearn\")\n",
    "plt.show()"
   ]
  },
  {
   "cell_type": "markdown",
   "metadata": {},
   "source": [
    "## 4. Summary"
   ]
  },
  {
   "cell_type": "markdown",
   "metadata": {},
   "source": [
    "### 4.1 MSE summary"
   ]
  },
  {
   "cell_type": "code",
   "execution_count": 118,
   "metadata": {
    "scrolled": false
   },
   "outputs": [
    {
     "name": "stdout",
     "output_type": "stream",
     "text": [
      "+---------------------+------+\n",
      "| Implementation type | MSE  |\n",
      "+---------------------+------+\n",
      "|        Manual       | 29.4 |\n",
      "|       Sklearn       | 28.8 |\n",
      "+---------------------+------+\n"
     ]
    }
   ],
   "source": [
    "#Ref: http://zetcode.com/python/prettytable/\n",
    "from prettytable import PrettyTable\n",
    "    \n",
    "x = PrettyTable()\n",
    "x.field_names = [\"Implementation type\",\"MSE\"]\n",
    "x.add_row([\"Manual\", 29.4])\n",
    "x.add_row([\"Sklearn\", 28.8])\n",
    "print(x)"
   ]
  },
  {
   "cell_type": "markdown",
   "metadata": {},
   "source": [
    "### 4.2 Co-efficients summary"
   ]
  },
  {
   "cell_type": "code",
   "execution_count": 119,
   "metadata": {},
   "outputs": [],
   "source": [
    "# creating lists of co-effs for both the versions\n",
    "man=[0.009558946531683554, -0.13818718767629987, 0.06243946570609928, -0.06653276256328082, 0.033085987060484955, -0.09943414546086045, 0.3517830179893913, -0.05210974376059008, -0.24617355920767672, 0.14098947216684204, -0.0769546176730711, -0.22803779179897943, 0.10347864673326172, -0.34579382098720907]\n",
    "sk=[6.66425325e-05,-0.13847363,0.08209953,-0.05357241,0.02511937,-0.1476366,0.32158284,-0.04633332,-0.29991421,0.20889573,-0.12852264,-0.23329494,0.1176353,-0.37131385]\n"
   ]
  },
  {
   "cell_type": "code",
   "execution_count": 120,
   "metadata": {},
   "outputs": [
    {
     "data": {
      "text/html": [
       "<div>\n",
       "<style scoped>\n",
       "    .dataframe tbody tr th:only-of-type {\n",
       "        vertical-align: middle;\n",
       "    }\n",
       "\n",
       "    .dataframe tbody tr th {\n",
       "        vertical-align: top;\n",
       "    }\n",
       "\n",
       "    .dataframe thead th {\n",
       "        text-align: right;\n",
       "    }\n",
       "</style>\n",
       "<table border=\"1\" class=\"dataframe\">\n",
       "  <thead>\n",
       "    <tr style=\"text-align: right;\">\n",
       "      <th></th>\n",
       "      <th>Manual</th>\n",
       "      <th>Sklearn</th>\n",
       "    </tr>\n",
       "  </thead>\n",
       "  <tbody>\n",
       "    <tr>\n",
       "      <th>Intercept</th>\n",
       "      <td>0.009559</td>\n",
       "      <td>0.000067</td>\n",
       "    </tr>\n",
       "    <tr>\n",
       "      <th>CRIM</th>\n",
       "      <td>-0.138187</td>\n",
       "      <td>-0.138474</td>\n",
       "    </tr>\n",
       "    <tr>\n",
       "      <th>ZN</th>\n",
       "      <td>0.062439</td>\n",
       "      <td>0.082100</td>\n",
       "    </tr>\n",
       "    <tr>\n",
       "      <th>INDUS</th>\n",
       "      <td>-0.066533</td>\n",
       "      <td>-0.053572</td>\n",
       "    </tr>\n",
       "    <tr>\n",
       "      <th>CHAS</th>\n",
       "      <td>0.033086</td>\n",
       "      <td>0.025119</td>\n",
       "    </tr>\n",
       "    <tr>\n",
       "      <th>NOX</th>\n",
       "      <td>-0.099434</td>\n",
       "      <td>-0.147637</td>\n",
       "    </tr>\n",
       "    <tr>\n",
       "      <th>RM</th>\n",
       "      <td>0.351783</td>\n",
       "      <td>0.321583</td>\n",
       "    </tr>\n",
       "    <tr>\n",
       "      <th>AGE</th>\n",
       "      <td>-0.052110</td>\n",
       "      <td>-0.046333</td>\n",
       "    </tr>\n",
       "    <tr>\n",
       "      <th>DIS</th>\n",
       "      <td>-0.246174</td>\n",
       "      <td>-0.299914</td>\n",
       "    </tr>\n",
       "    <tr>\n",
       "      <th>RAD</th>\n",
       "      <td>0.140989</td>\n",
       "      <td>0.208896</td>\n",
       "    </tr>\n",
       "    <tr>\n",
       "      <th>TAX</th>\n",
       "      <td>-0.076955</td>\n",
       "      <td>-0.128523</td>\n",
       "    </tr>\n",
       "    <tr>\n",
       "      <th>PTRATIO</th>\n",
       "      <td>-0.228038</td>\n",
       "      <td>-0.233295</td>\n",
       "    </tr>\n",
       "    <tr>\n",
       "      <th>B</th>\n",
       "      <td>0.103479</td>\n",
       "      <td>0.117635</td>\n",
       "    </tr>\n",
       "    <tr>\n",
       "      <th>LSTAT</th>\n",
       "      <td>-0.345794</td>\n",
       "      <td>-0.371314</td>\n",
       "    </tr>\n",
       "  </tbody>\n",
       "</table>\n",
       "</div>"
      ],
      "text/plain": [
       "             Manual   Sklearn\n",
       "Intercept  0.009559  0.000067\n",
       "CRIM      -0.138187 -0.138474\n",
       "ZN         0.062439  0.082100\n",
       "INDUS     -0.066533 -0.053572\n",
       "CHAS       0.033086  0.025119\n",
       "NOX       -0.099434 -0.147637\n",
       "RM         0.351783  0.321583\n",
       "AGE       -0.052110 -0.046333\n",
       "DIS       -0.246174 -0.299914\n",
       "RAD        0.140989  0.208896\n",
       "TAX       -0.076955 -0.128523\n",
       "PTRATIO   -0.228038 -0.233295\n",
       "B          0.103479  0.117635\n",
       "LSTAT     -0.345794 -0.371314"
      ]
     },
     "execution_count": 120,
     "metadata": {},
     "output_type": "execute_result"
    }
   ],
   "source": [
    "# Creating a table in form of data frame\n",
    "tab = pd.DataFrame(list(zip(man,sk)),index =['Intercept','CRIM','ZN', 'INDUS', 'CHAS', 'NOX', 'RM','AGE', 'DIS', 'RAD', 'TAX', 'PTRATIO',\n",
    " 'B', 'LSTAT'],columns =['Manual','Sklearn'])\n",
    "tab"
   ]
  }
 ],
 "metadata": {
  "kernelspec": {
   "display_name": "Python 3",
   "language": "python",
   "name": "python3"
  },
  "language_info": {
   "codemirror_mode": {
    "name": "ipython",
    "version": 3
   },
   "file_extension": ".py",
   "mimetype": "text/x-python",
   "name": "python",
   "nbconvert_exporter": "python",
   "pygments_lexer": "ipython3",
   "version": "3.6.5"
  }
 },
 "nbformat": 4,
 "nbformat_minor": 2
}
