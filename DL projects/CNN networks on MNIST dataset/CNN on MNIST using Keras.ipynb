{
  "nbformat": 4,
  "nbformat_minor": 0,
  "metadata": {
    "colab": {
      "name": "Assignment_CNN_MNIST.ipynb",
      "provenance": [],
      "collapsed_sections": []
    },
    "kernelspec": {
      "name": "python3",
      "display_name": "Python 3"
    }
  },
  "cells": [
    {
      "cell_type": "markdown",
      "metadata": {
        "id": "mXxlvvpNQbmY",
        "colab_type": "text"
      },
      "source": [
        "<h1 style=\"text-align:center;font-size:30px;\" > CNN on MNIST using Keras </h1>"
      ]
    },
    {
      "cell_type": "code",
      "metadata": {
        "id": "H9EU0e8yzFOm",
        "colab_type": "code",
        "outputId": "f36d070c-ca25-4628-d0cb-00e286488c0a",
        "colab": {
          "base_uri": "https://localhost:8080/",
          "height": 80
        }
      },
      "source": [
        "# Credits: https://github.com/keras-team/keras/blob/master/examples/mnist_cnn.py\n",
        "\n",
        "\n",
        "import warnings\n",
        "warnings.filterwarnings(\"ignore\")\n",
        "from __future__ import print_function\n",
        "import keras\n",
        "from keras.datasets import mnist\n",
        "from keras.models import Sequential\n",
        "from keras.layers import Dense, Dropout, Flatten\n",
        "from keras.layers import Conv2D, MaxPooling2D\n",
        "from keras import backend as K\n",
        "from keras.utils import np_utils\n",
        "import seaborn as sns\n",
        "from keras.initializers import RandomNormal\n",
        "%matplotlib notebook\n",
        "%matplotlib inline\n",
        "import matplotlib.pyplot as plt\n",
        "import numpy as np\n",
        "import time \n",
        "from keras.layers import Activation\n",
        "from datetime import datetime\n",
        "from keras.layers.normalization import BatchNormalization\n",
        "from keras.layers import Dropout"
      ],
      "execution_count": 1,
      "outputs": [
        {
          "output_type": "stream",
          "text": [
            "Using TensorFlow backend.\n"
          ],
          "name": "stderr"
        },
        {
          "output_type": "display_data",
          "data": {
            "text/html": [
              "<p style=\"color: red;\">\n",
              "The default version of TensorFlow in Colab will soon switch to TensorFlow 2.x.<br>\n",
              "We recommend you <a href=\"https://www.tensorflow.org/guide/migrate\" target=\"_blank\">upgrade</a> now \n",
              "or ensure your notebook will continue to use TensorFlow 1.x via the <code>%tensorflow_version 1.x</code> magic:\n",
              "<a href=\"https://colab.research.google.com/notebooks/tensorflow_version.ipynb\" target=\"_blank\">more info</a>.</p>\n"
            ],
            "text/plain": [
              "<IPython.core.display.HTML object>"
            ]
          },
          "metadata": {
            "tags": []
          }
        }
      ]
    },
    {
      "cell_type": "markdown",
      "metadata": {
        "id": "jPEMrh4XTXtW",
        "colab_type": "text"
      },
      "source": [
        "## 1.0 Loading & splitting the data"
      ]
    },
    {
      "cell_type": "code",
      "metadata": {
        "id": "DKGPTQX-TJXT",
        "colab_type": "code",
        "outputId": "fd6966f9-4b8a-456e-ff7d-ca42a6a4d4f8",
        "colab": {
          "base_uri": "https://localhost:8080/",
          "height": 68
        }
      },
      "source": [
        "num_classes = 10\n",
        "# input image dimensions\n",
        "img_rows, img_cols = 28, 28\n",
        "\n",
        "# the data, split between train and test sets\n",
        "(x_train, y_train), (x_test, y_test) = mnist.load_data()\n",
        "\n",
        "if K.image_data_format() == 'channels_first':\n",
        "    x_train = x_train.reshape(x_train.shape[0], 1, img_rows, img_cols)\n",
        "    x_test = x_test.reshape(x_test.shape[0], 1, img_rows, img_cols)\n",
        "    input_shape = (1, img_rows, img_cols)\n",
        "else:\n",
        "    x_train = x_train.reshape(x_train.shape[0], img_rows, img_cols, 1)\n",
        "    x_test = x_test.reshape(x_test.shape[0], img_rows, img_cols, 1)\n",
        "    input_shape = (img_rows, img_cols, 1)\n",
        "\n",
        "x_train = x_train.astype('float32')\n",
        "x_test = x_test.astype('float32')\n",
        "x_train /= 255\n",
        "x_test /= 255\n",
        "print('x_train shape:', x_train.shape)\n",
        "print(x_train.shape[0], 'train samples')\n",
        "print(x_test.shape[0], 'test samples')\n",
        "\n",
        "# convert class vectors to binary class matrices\n",
        "y_train = keras.utils.to_categorical(y_train, num_classes)\n",
        "y_test = keras.utils.to_categorical(y_test, num_classes)"
      ],
      "execution_count": 3,
      "outputs": [
        {
          "output_type": "stream",
          "text": [
            "x_train shape: (60000, 28, 28, 1)\n",
            "60000 train samples\n",
            "10000 test samples\n"
          ],
          "name": "stdout"
        }
      ]
    },
    {
      "cell_type": "code",
      "metadata": {
        "id": "CrE6Wp4nihzs",
        "colab_type": "code",
        "colab": {
          "base_uri": "https://localhost:8080/",
          "height": 34
        },
        "outputId": "13e3ea92-b754-4344-e868-8bf5c4d3113c"
      },
      "source": [
        "print(input_shape)"
      ],
      "execution_count": 8,
      "outputs": [
        {
          "output_type": "stream",
          "text": [
            "(28, 28, 1)\n"
          ],
          "name": "stdout"
        }
      ]
    },
    {
      "cell_type": "markdown",
      "metadata": {
        "id": "CqYjIEr5Sy_i",
        "colab_type": "text"
      },
      "source": [
        "## 2.0 Utility functions"
      ]
    },
    {
      "cell_type": "code",
      "metadata": {
        "id": "duU08bhKS8Gd",
        "colab_type": "code",
        "colab": {}
      },
      "source": [
        "batch_size = 150\n",
        "num_classes = 10\n",
        "epochs = 15"
      ],
      "execution_count": 0,
      "outputs": []
    },
    {
      "cell_type": "code",
      "metadata": {
        "id": "ATWU7EhLTD7i",
        "colab_type": "code",
        "colab": {}
      },
      "source": [
        "# function to plot epoch vs loss\n",
        "\n",
        "def plt_dynamic(x, vy, ty, ax, colors=['b']):\n",
        "    ax.plot(x, vy, 'b', label=\"Validation Loss\")\n",
        "    ax.plot(x, ty, 'r', label=\"Train Loss\")\n",
        "    plt.legend()\n",
        "    plt.grid()\n",
        "    fig.canvas.draw()"
      ],
      "execution_count": 0,
      "outputs": []
    },
    {
      "cell_type": "markdown",
      "metadata": {
        "id": "MlnGmSF8TuQg",
        "colab_type": "text"
      },
      "source": [
        "## 3.0 Three layered CNN using 3X3 kernel"
      ]
    },
    {
      "cell_type": "code",
      "metadata": {
        "id": "bJ0VUM9ATtoA",
        "colab_type": "code",
        "outputId": "cc7f9281-6513-48e0-d692-5842a6c696ff",
        "colab": {
          "base_uri": "https://localhost:8080/",
          "height": 1000
        }
      },
      "source": [
        "import warnings\n",
        "warnings.filterwarnings(\"ignore\")\n",
        "\n",
        "start = datetime.now()\n",
        "\n",
        "model = Sequential()\n",
        "model.add(Conv2D(32, kernel_size=(3, 3), strides=(1, 1), padding='valid', kernel_initializer= 'he_normal',\n",
        "                 activation='relu',input_shape=input_shape))\n",
        "\n",
        "model.add(Conv2D(64, (3, 3), activation='relu', kernel_initializer= 'he_normal'))\n",
        "model.add(MaxPooling2D(pool_size=(2, 2)))\n",
        "model.add(Dropout(0.25))\n",
        "\n",
        "model.add(Conv2D(90, (3, 3), activation='relu', kernel_initializer= 'he_normal'))\n",
        "model.add(MaxPooling2D(pool_size=(2, 2)))\n",
        "model.add(Dropout(0.25))\n",
        "\n",
        "model.add(Flatten())\n",
        "model.add(Dense(128, activation='relu',kernel_initializer= 'he_normal'))\n",
        "model.add(Dropout(0.5))\n",
        "\n",
        "model.add(Dense(num_classes, activation='softmax'))\n",
        "\n",
        "model.compile(loss=keras.losses.categorical_crossentropy,\n",
        "              optimizer=keras.optimizers.Adam(),\n",
        "              metrics=['accuracy'])\n",
        "\n",
        "fit1=model.fit(x_train, y_train,\n",
        "          batch_size=batch_size,\n",
        "          epochs=epochs,\n",
        "          verbose=1,\n",
        "          validation_data=(x_test, y_test))\n",
        "\n",
        "print('Time taken :', datetime.now() - start)"
      ],
      "execution_count": 0,
      "outputs": [
        {
          "output_type": "stream",
          "text": [
            "WARNING:tensorflow:From /usr/local/lib/python3.6/dist-packages/keras/backend/tensorflow_backend.py:66: The name tf.get_default_graph is deprecated. Please use tf.compat.v1.get_default_graph instead.\n",
            "\n",
            "WARNING:tensorflow:From /usr/local/lib/python3.6/dist-packages/keras/backend/tensorflow_backend.py:541: The name tf.placeholder is deprecated. Please use tf.compat.v1.placeholder instead.\n",
            "\n",
            "WARNING:tensorflow:From /usr/local/lib/python3.6/dist-packages/keras/backend/tensorflow_backend.py:4479: The name tf.truncated_normal is deprecated. Please use tf.random.truncated_normal instead.\n",
            "\n",
            "WARNING:tensorflow:From /usr/local/lib/python3.6/dist-packages/keras/backend/tensorflow_backend.py:4267: The name tf.nn.max_pool is deprecated. Please use tf.nn.max_pool2d instead.\n",
            "\n",
            "WARNING:tensorflow:From /usr/local/lib/python3.6/dist-packages/keras/backend/tensorflow_backend.py:148: The name tf.placeholder_with_default is deprecated. Please use tf.compat.v1.placeholder_with_default instead.\n",
            "\n",
            "WARNING:tensorflow:From /usr/local/lib/python3.6/dist-packages/keras/backend/tensorflow_backend.py:3733: calling dropout (from tensorflow.python.ops.nn_ops) with keep_prob is deprecated and will be removed in a future version.\n",
            "Instructions for updating:\n",
            "Please use `rate` instead of `keep_prob`. Rate should be set to `rate = 1 - keep_prob`.\n",
            "WARNING:tensorflow:From /usr/local/lib/python3.6/dist-packages/keras/backend/tensorflow_backend.py:4432: The name tf.random_uniform is deprecated. Please use tf.random.uniform instead.\n",
            "\n",
            "WARNING:tensorflow:From /usr/local/lib/python3.6/dist-packages/keras/optimizers.py:793: The name tf.train.Optimizer is deprecated. Please use tf.compat.v1.train.Optimizer instead.\n",
            "\n",
            "WARNING:tensorflow:From /usr/local/lib/python3.6/dist-packages/keras/backend/tensorflow_backend.py:3576: The name tf.log is deprecated. Please use tf.math.log instead.\n",
            "\n",
            "WARNING:tensorflow:From /usr/local/lib/python3.6/dist-packages/tensorflow_core/python/ops/math_grad.py:1424: where (from tensorflow.python.ops.array_ops) is deprecated and will be removed in a future version.\n",
            "Instructions for updating:\n",
            "Use tf.where in 2.0, which has the same broadcast rule as np.where\n",
            "WARNING:tensorflow:From /usr/local/lib/python3.6/dist-packages/keras/backend/tensorflow_backend.py:1033: The name tf.assign_add is deprecated. Please use tf.compat.v1.assign_add instead.\n",
            "\n",
            "WARNING:tensorflow:From /usr/local/lib/python3.6/dist-packages/keras/backend/tensorflow_backend.py:1020: The name tf.assign is deprecated. Please use tf.compat.v1.assign instead.\n",
            "\n",
            "WARNING:tensorflow:From /usr/local/lib/python3.6/dist-packages/keras/backend/tensorflow_backend.py:3005: The name tf.Session is deprecated. Please use tf.compat.v1.Session instead.\n",
            "\n",
            "Train on 60000 samples, validate on 10000 samples\n",
            "Epoch 1/15\n",
            "WARNING:tensorflow:From /usr/local/lib/python3.6/dist-packages/keras/backend/tensorflow_backend.py:190: The name tf.get_default_session is deprecated. Please use tf.compat.v1.get_default_session instead.\n",
            "\n",
            "WARNING:tensorflow:From /usr/local/lib/python3.6/dist-packages/keras/backend/tensorflow_backend.py:197: The name tf.ConfigProto is deprecated. Please use tf.compat.v1.ConfigProto instead.\n",
            "\n",
            "WARNING:tensorflow:From /usr/local/lib/python3.6/dist-packages/keras/backend/tensorflow_backend.py:207: The name tf.global_variables is deprecated. Please use tf.compat.v1.global_variables instead.\n",
            "\n",
            "WARNING:tensorflow:From /usr/local/lib/python3.6/dist-packages/keras/backend/tensorflow_backend.py:216: The name tf.is_variable_initialized is deprecated. Please use tf.compat.v1.is_variable_initialized instead.\n",
            "\n",
            "WARNING:tensorflow:From /usr/local/lib/python3.6/dist-packages/keras/backend/tensorflow_backend.py:223: The name tf.variables_initializer is deprecated. Please use tf.compat.v1.variables_initializer instead.\n",
            "\n",
            "60000/60000 [==============================] - 167s 3ms/step - loss: 0.3381 - acc: 0.8939 - val_loss: 0.0503 - val_acc: 0.9845\n",
            "Epoch 2/15\n",
            "60000/60000 [==============================] - 165s 3ms/step - loss: 0.0960 - acc: 0.9716 - val_loss: 0.0341 - val_acc: 0.9888\n",
            "Epoch 3/15\n",
            "60000/60000 [==============================] - 165s 3ms/step - loss: 0.0709 - acc: 0.9794 - val_loss: 0.0278 - val_acc: 0.9897\n",
            "Epoch 4/15\n",
            "60000/60000 [==============================] - 164s 3ms/step - loss: 0.0604 - acc: 0.9828 - val_loss: 0.0230 - val_acc: 0.9921\n",
            "Epoch 5/15\n",
            "60000/60000 [==============================] - 163s 3ms/step - loss: 0.0525 - acc: 0.9839 - val_loss: 0.0216 - val_acc: 0.9936\n",
            "Epoch 6/15\n",
            "60000/60000 [==============================] - 164s 3ms/step - loss: 0.0447 - acc: 0.9863 - val_loss: 0.0245 - val_acc: 0.9927\n",
            "Epoch 7/15\n",
            "60000/60000 [==============================] - 164s 3ms/step - loss: 0.0420 - acc: 0.9876 - val_loss: 0.0254 - val_acc: 0.9924\n",
            "Epoch 8/15\n",
            "60000/60000 [==============================] - 164s 3ms/step - loss: 0.0370 - acc: 0.9882 - val_loss: 0.0176 - val_acc: 0.9942\n",
            "Epoch 9/15\n",
            "60000/60000 [==============================] - 164s 3ms/step - loss: 0.0347 - acc: 0.9899 - val_loss: 0.0163 - val_acc: 0.9946\n",
            "Epoch 10/15\n",
            "60000/60000 [==============================] - 164s 3ms/step - loss: 0.0316 - acc: 0.9906 - val_loss: 0.0213 - val_acc: 0.9931\n",
            "Epoch 11/15\n",
            "60000/60000 [==============================] - 164s 3ms/step - loss: 0.0300 - acc: 0.9906 - val_loss: 0.0171 - val_acc: 0.9945\n",
            "Epoch 12/15\n",
            "60000/60000 [==============================] - 163s 3ms/step - loss: 0.0288 - acc: 0.9910 - val_loss: 0.0161 - val_acc: 0.9946\n",
            "Epoch 13/15\n",
            "60000/60000 [==============================] - 164s 3ms/step - loss: 0.0261 - acc: 0.9920 - val_loss: 0.0185 - val_acc: 0.9945\n",
            "Epoch 14/15\n",
            "60000/60000 [==============================] - 163s 3ms/step - loss: 0.0264 - acc: 0.9918 - val_loss: 0.0178 - val_acc: 0.9945\n",
            "Epoch 15/15\n",
            "60000/60000 [==============================] - 164s 3ms/step - loss: 0.0248 - acc: 0.9924 - val_loss: 0.0192 - val_acc: 0.9941\n",
            "Time taken : 0:40:59.787039\n"
          ],
          "name": "stdout"
        }
      ]
    },
    {
      "cell_type": "markdown",
      "metadata": {
        "id": "gZIwDEiIULGg",
        "colab_type": "text"
      },
      "source": [
        "### 3.1 Results & Plot"
      ]
    },
    {
      "cell_type": "code",
      "metadata": {
        "id": "Q7CG1vU3UKPT",
        "colab_type": "code",
        "outputId": "979b4c67-b127-4380-b374-258292aacdaf",
        "colab": {
          "base_uri": "https://localhost:8080/",
          "height": 315
        }
      },
      "source": [
        "score1 = model.evaluate(x_test, y_test, verbose=0) \n",
        "print('Test score:', score1[0]) \n",
        "print('Test accuracy:', score1[1])\n",
        "\n",
        "fig,ax = plt.subplots(1,1)\n",
        "ax.set_xlabel('epoch') ; ax.set_ylabel('Categorical Crossentropy Loss')\n",
        "\n",
        "# list of epoch numbers\n",
        "x = list(range(1,epochs+1))\n",
        "\n",
        "# print(history.history.keys())\n",
        "# dict_keys(['val_loss', 'val_acc', 'loss', 'acc'])\n",
        "# history = model_drop.fit(X_train, Y_train, batch_size=batch_size, epochs=nb_epoch, verbose=1, validation_data=(X_test, Y_test))\n",
        "\n",
        "# we will get val_loss and val_acc only when you pass the paramter validation_data\n",
        "# val_loss : validation loss\n",
        "# val_acc : validation accuracy\n",
        "\n",
        "# loss : training loss\n",
        "# acc : train accuracy\n",
        "# for each key in histrory.histrory we will have a list of length equal to number of epochs\n",
        "\n",
        "\n",
        "vy = fit1.history['val_loss']\n",
        "ty = fit1.history['loss']\n",
        "plt_dynamic(x, vy, ty, ax)"
      ],
      "execution_count": 0,
      "outputs": [
        {
          "output_type": "stream",
          "text": [
            "Test score: 0.019186536238695043\n",
            "Test accuracy: 0.9941\n"
          ],
          "name": "stdout"
        },
        {
          "output_type": "display_data",
          "data": {
            "image/png": "[encoded data removed]",
            "text/plain": [
              "<Figure size 432x288 with 1 Axes>"
            ]
          },
          "metadata": {
            "tags": []
          }
        }
      ]
    },
    {
      "cell_type": "markdown",
      "metadata": {
        "id": "KF51Co2OdT98",
        "colab_type": "text"
      },
      "source": [
        "## 4.0 Five layered CNN using 2X2 kernel with batch normalization & dropout"
      ]
    },
    {
      "cell_type": "code",
      "metadata": {
        "id": "OPGl0qgBgsp4",
        "colab_type": "code",
        "colab": {}
      },
      "source": [
        "batch_size = 200\n",
        "num_classes = 10\n",
        "epochs = 10"
      ],
      "execution_count": 0,
      "outputs": []
    },
    {
      "cell_type": "code",
      "metadata": {
        "id": "PQDdJ20KdS35",
        "colab_type": "code",
        "outputId": "10920789-7a69-4ed2-e611-df8faf95fbb5",
        "colab": {
          "base_uri": "https://localhost:8080/",
          "height": 391
        }
      },
      "source": [
        "import warnings\n",
        "warnings.filterwarnings(\"ignore\")\n",
        "\n",
        "start = datetime.now()\n",
        "\n",
        "model = Sequential()\n",
        "\n",
        "model.add(Conv2D(32, kernel_size=(2, 2), strides=(1, 1), padding='same', kernel_initializer= 'he_normal',\n",
        "                 activation='relu',input_shape=input_shape))\n",
        "\n",
        "model.add(Conv2D(64, (2, 2), strides=(1, 1),padding='same',activation='relu', kernel_initializer= 'he_normal'))\n",
        "model.add(MaxPooling2D(pool_size=(1, 1)))\n",
        "model.add(BatchNormalization())\n",
        "model.add(Dropout(0.25))\n",
        "\n",
        "model.add(Conv2D(80, (2, 2), strides=(1, 1), padding='same', activation='relu', kernel_initializer= 'he_normal'))\n",
        "model.add(MaxPooling2D(pool_size=(1, 1)))\n",
        "model.add(BatchNormalization())\n",
        "model.add(Dropout(0.25))\n",
        "\n",
        "model.add(Conv2D(100, (2, 2), strides=(1, 1), padding='same', activation='relu', kernel_initializer= 'he_normal'))\n",
        "model.add(MaxPooling2D(pool_size=(1, 1)))\n",
        "model.add(BatchNormalization())\n",
        "model.add(Dropout(0.25))\n",
        "\n",
        "model.add(Conv2D(120, (2, 2), strides=(1, 1), padding='same', activation='relu', kernel_initializer= 'he_normal'))\n",
        "model.add(MaxPooling2D(pool_size=(1, 1)))\n",
        "model.add(BatchNormalization())\n",
        "model.add(Dropout(0.25))\n",
        "\n",
        "model.add(Flatten())\n",
        "model.add(Dense(128, activation='relu',kernel_initializer= 'he_normal'))\n",
        "model.add(BatchNormalization())\n",
        "model.add(Dropout(0.5))\n",
        "\n",
        "model.add(Dense(num_classes, activation='softmax'))\n",
        "\n",
        "model.compile(loss=keras.losses.categorical_crossentropy,\n",
        "              optimizer=keras.optimizers.Adam(),\n",
        "              metrics=['accuracy'])\n",
        "\n",
        "fit2=model.fit(x_train, y_train,\n",
        "          batch_size=batch_size,\n",
        "          epochs=epochs,\n",
        "          verbose=1,\n",
        "          validation_data=(x_test, y_test))\n",
        "\n",
        "print('Time taken :', datetime.now() - start)"
      ],
      "execution_count": 30,
      "outputs": [
        {
          "output_type": "stream",
          "text": [
            "Train on 60000 samples, validate on 10000 samples\n",
            "Epoch 1/10\n",
            "60000/60000 [==============================] - 117s 2ms/step - loss: 0.5747 - acc: 0.8229 - val_loss: 0.1548 - val_acc: 0.9518\n",
            "Epoch 2/10\n",
            "60000/60000 [==============================] - 114s 2ms/step - loss: 0.2103 - acc: 0.9351 - val_loss: 0.1090 - val_acc: 0.9648\n",
            "Epoch 3/10\n",
            "60000/60000 [==============================] - 114s 2ms/step - loss: 0.1586 - acc: 0.9506 - val_loss: 0.0845 - val_acc: 0.9723\n",
            "Epoch 4/10\n",
            "60000/60000 [==============================] - 114s 2ms/step - loss: 0.1342 - acc: 0.9588 - val_loss: 0.0839 - val_acc: 0.9729\n",
            "Epoch 5/10\n",
            "60000/60000 [==============================] - 114s 2ms/step - loss: 0.1157 - acc: 0.9641 - val_loss: 0.0677 - val_acc: 0.9771\n",
            "Epoch 6/10\n",
            "60000/60000 [==============================] - 114s 2ms/step - loss: 0.1039 - acc: 0.9682 - val_loss: 0.0637 - val_acc: 0.9784\n",
            "Epoch 7/10\n",
            "60000/60000 [==============================] - 114s 2ms/step - loss: 0.0949 - acc: 0.9706 - val_loss: 0.0556 - val_acc: 0.9816\n",
            "Epoch 8/10\n",
            "60000/60000 [==============================] - 114s 2ms/step - loss: 0.0868 - acc: 0.9726 - val_loss: 0.0654 - val_acc: 0.9790\n",
            "Epoch 9/10\n",
            "60000/60000 [==============================] - 114s 2ms/step - loss: 0.0811 - acc: 0.9753 - val_loss: 0.0498 - val_acc: 0.9835\n",
            "Epoch 10/10\n",
            "60000/60000 [==============================] - 114s 2ms/step - loss: 0.0740 - acc: 0.9772 - val_loss: 0.0497 - val_acc: 0.9844\n",
            "Time taken : 0:19:04.763188\n"
          ],
          "name": "stdout"
        }
      ]
    },
    {
      "cell_type": "markdown",
      "metadata": {
        "colab_type": "text",
        "id": "ouQjhmFQfTVd"
      },
      "source": [
        "### 4.1 Results & Plot"
      ]
    },
    {
      "cell_type": "code",
      "metadata": {
        "colab_type": "code",
        "id": "zwGUu3mpfTVk",
        "outputId": "4f6d3655-d28f-4d4a-ace8-211ef5e19272",
        "colab": {
          "base_uri": "https://localhost:8080/",
          "height": 317
        }
      },
      "source": [
        "score = model.evaluate(x_test, y_test, verbose=0) \n",
        "print('Test score:', score[0]) \n",
        "print('Test accuracy:', score[1])\n",
        "\n",
        "fig,ax = plt.subplots(1,1)\n",
        "ax.set_xlabel('epoch') ; ax.set_ylabel('Categorical Crossentropy Loss')\n",
        "\n",
        "# list of epoch numbers\n",
        "x = list(range(1,epochs+1))\n",
        "\n",
        "# plot\n",
        "vy = fit2.history['val_loss']\n",
        "ty = fit2.history['loss']\n",
        "plt_dynamic(x, vy, ty, ax)"
      ],
      "execution_count": 31,
      "outputs": [
        {
          "output_type": "stream",
          "text": [
            "Test score: 0.049710892591020094\n",
            "Test accuracy: 0.9844\n"
          ],
          "name": "stdout"
        },
        {
          "output_type": "display_data",
          "data": {
            "image/png": "[encoded data removed]",
            "text/plain": [
              "<Figure size 432x288 with 1 Axes>"
            ]
          },
          "metadata": {
            "tags": []
          }
        }
      ]
    },
    {
      "cell_type": "markdown",
      "metadata": {
        "colab_type": "text",
        "id": "ZqtddQaWf63R"
      },
      "source": [
        "## 5.0 Seven layered CNN using 5X5 kernel with batch normalization & dropout"
      ]
    },
    {
      "cell_type": "code",
      "metadata": {
        "id": "Ad_EK6spgwen",
        "colab_type": "code",
        "colab": {}
      },
      "source": [
        "batch_size = 200\n",
        "num_classes = 10\n",
        "epochs = 10"
      ],
      "execution_count": 0,
      "outputs": []
    },
    {
      "cell_type": "code",
      "metadata": {
        "colab_type": "code",
        "id": "ntXyHRQbf63b",
        "outputId": "77e0d87b-2446-4fe7-fe12-6cb27b2e119d",
        "colab": {
          "base_uri": "https://localhost:8080/",
          "height": 391
        }
      },
      "source": [
        "import warnings\n",
        "warnings.filterwarnings(\"ignore\")\n",
        "\n",
        "start = datetime.now()\n",
        "\n",
        "model = Sequential()\n",
        "\n",
        "model.add(Conv2D(32, kernel_size=(5, 5), strides=(2, 2), padding='same', kernel_initializer= 'he_normal',\n",
        "                 activation='relu',input_shape=input_shape))\n",
        "\n",
        "model.add(Conv2D(64, (5, 5), strides=(2, 2),padding='same', activation='relu', kernel_initializer= 'he_normal'))\n",
        "model.add(MaxPooling2D(pool_size=(1, 1)))\n",
        "model.add(BatchNormalization())\n",
        "model.add(Dropout(0.25))\n",
        "\n",
        "model.add(Conv2D(80, (5, 5), strides=(2, 2),padding='same', activation='relu', kernel_initializer= 'he_normal'))\n",
        "model.add(MaxPooling2D(pool_size=(1, 1)))\n",
        "model.add(BatchNormalization())\n",
        "model.add(Dropout(0.25))\n",
        "\n",
        "model.add(Conv2D(100, (5, 5), strides=(2, 2), padding='same', activation='relu', kernel_initializer= 'he_normal'))\n",
        "model.add(MaxPooling2D(pool_size=(1, 1)))\n",
        "model.add(BatchNormalization())\n",
        "model.add(Dropout(0.25))\n",
        "\n",
        "model.add(Conv2D(120, (5, 5), strides=(2, 2), padding='same', activation='relu', kernel_initializer= 'he_normal'))\n",
        "model.add(MaxPooling2D(pool_size=(1, 1)))\n",
        "model.add(BatchNormalization())\n",
        "model.add(Dropout(0.25))\n",
        "\n",
        "model.add(Conv2D(150, (5, 5), strides=(2, 2), padding='same', activation='relu', kernel_initializer= 'he_normal'))\n",
        "model.add(MaxPooling2D(pool_size=(1, 1)))\n",
        "model.add(BatchNormalization())\n",
        "model.add(Dropout(0.25))\n",
        "\n",
        "model.add(Conv2D(170, (5, 5), strides=(2, 2),padding='same', activation='relu', kernel_initializer= 'he_normal'))\n",
        "model.add(MaxPooling2D(pool_size=(1, 1)))\n",
        "model.add(BatchNormalization())\n",
        "model.add(Dropout(0.25))\n",
        "\n",
        "model.add(Flatten())\n",
        "model.add(Dense(150, activation='relu',kernel_initializer= 'he_normal'))\n",
        "model.add(BatchNormalization())\n",
        "model.add(Dropout(0.5))\n",
        "\n",
        "model.add(Dense(num_classes, activation='softmax'))\n",
        "\n",
        "model.compile(loss=keras.losses.categorical_crossentropy,\n",
        "              optimizer=keras.optimizers.Adam(),\n",
        "              metrics=['accuracy'])\n",
        "\n",
        "fit3=model.fit(x_train, y_train,\n",
        "          batch_size=batch_size,\n",
        "          epochs=epochs,\n",
        "          verbose=1,\n",
        "          validation_data=(x_test, y_test))\n",
        "\n",
        "print('Time taken :', datetime.now() - start)"
      ],
      "execution_count": 25,
      "outputs": [
        {
          "output_type": "stream",
          "text": [
            "Train on 60000 samples, validate on 10000 samples\n",
            "Epoch 1/10\n",
            "60000/60000 [==============================] - 248s 4ms/step - loss: 0.7999 - acc: 0.7518 - val_loss: 0.1932 - val_acc: 0.9486\n",
            "Epoch 2/10\n",
            "60000/60000 [==============================] - 242s 4ms/step - loss: 0.2528 - acc: 0.9306 - val_loss: 0.1432 - val_acc: 0.9610\n",
            "Epoch 3/10\n",
            "60000/60000 [==============================] - 243s 4ms/step - loss: 0.1875 - acc: 0.9498 - val_loss: 0.1082 - val_acc: 0.9714\n",
            "Epoch 4/10\n",
            "60000/60000 [==============================] - 243s 4ms/step - loss: 0.1484 - acc: 0.9595 - val_loss: 0.0950 - val_acc: 0.9734\n",
            "Epoch 5/10\n",
            "60000/60000 [==============================] - 243s 4ms/step - loss: 0.1280 - acc: 0.9654 - val_loss: 0.0799 - val_acc: 0.9763\n",
            "Epoch 6/10\n",
            "60000/60000 [==============================] - 243s 4ms/step - loss: 0.1115 - acc: 0.9697 - val_loss: 0.0795 - val_acc: 0.9772\n",
            "Epoch 7/10\n",
            "60000/60000 [==============================] - 242s 4ms/step - loss: 0.1061 - acc: 0.9712 - val_loss: 0.0786 - val_acc: 0.9791\n",
            "Epoch 8/10\n",
            "60000/60000 [==============================] - 242s 4ms/step - loss: 0.0957 - acc: 0.9736 - val_loss: 0.0739 - val_acc: 0.9800\n",
            "Epoch 9/10\n",
            "60000/60000 [==============================] - 242s 4ms/step - loss: 0.0902 - acc: 0.9747 - val_loss: 0.0724 - val_acc: 0.9800\n",
            "Epoch 10/10\n",
            "60000/60000 [==============================] - 243s 4ms/step - loss: 0.0819 - acc: 0.9774 - val_loss: 0.0733 - val_acc: 0.9788\n",
            "Time taken : 0:40:35.118176\n"
          ],
          "name": "stdout"
        }
      ]
    },
    {
      "cell_type": "markdown",
      "metadata": {
        "colab_type": "text",
        "id": "q2dhLWQSf63t"
      },
      "source": [
        "### 5.1 Results & Plot"
      ]
    },
    {
      "cell_type": "code",
      "metadata": {
        "colab_type": "code",
        "id": "0PHf0E6Ef633",
        "colab": {
          "base_uri": "https://localhost:8080/",
          "height": 313
        },
        "outputId": "ee9483b9-0055-472e-8b62-7f4b81adbfef"
      },
      "source": [
        "score = model.evaluate(x_test, y_test, verbose=0) \n",
        "print('Test score:', score[0]) \n",
        "print('Test accuracy:', score[1])\n",
        "\n",
        "fig,ax = plt.subplots(1,1)\n",
        "ax.set_xlabel('epoch') ; ax.set_ylabel('Categorical Crossentropy Loss')\n",
        "\n",
        "# list of epoch numbers\n",
        "x = list(range(1,epochs+1))\n",
        "\n",
        "# plot\n",
        "vy = fit3.history['val_loss']\n",
        "ty = fit3.history['loss']\n",
        "plt_dynamic(x, vy, ty, ax)"
      ],
      "execution_count": 26,
      "outputs": [
        {
          "output_type": "stream",
          "text": [
            "Test score: 0.07328068963296246\n",
            "Test accuracy: 0.9788\n"
          ],
          "name": "stdout"
        },
        {
          "output_type": "display_data",
          "data": {
            "image/png": "[encoded data removed]",
            "text/plain": [
              "<Figure size 432x288 with 1 Axes>"
            ]
          },
          "metadata": {
            "tags": []
          }
        }
      ]
    },
    {
      "cell_type": "markdown",
      "metadata": {
        "id": "zxTuHtvuh_CF",
        "colab_type": "text"
      },
      "source": [
        "## 6.0 Summary"
      ]
    },
    {
      "cell_type": "code",
      "metadata": {
        "id": "E-ziKVCsiAkX",
        "colab_type": "code",
        "colab": {
          "base_uri": "https://localhost:8080/",
          "height": 142
        },
        "outputId": "bd194a4d-576a-4c35-aff0-ee7daa7aaef4"
      },
      "source": [
        "import pandas as pd\n",
        "\n",
        "df= pd.DataFrame(columns=[\"Number of Layers\",\"Kernel size\",\"Strides\",\"Pooling window size\",\"Batch size\",\"Epoch\",\"Test Loss\",\"Test Accuracy\"],index=['I','II','III'])\n",
        "df.loc['I']=[3,('3X3'),(1,1), (2,2),150,15, 0.0192, '99.41%']\n",
        "df.loc['II']=[5,('2X2'),(1,1), (1,1),200,10, 0.0497, '98.44%']\n",
        "df.loc['III']=[7,('5X5'),(2,2), (1,1),200,10, 0.0733, '97.88%']\n",
        "df"
      ],
      "execution_count": 38,
      "outputs": [
        {
          "output_type": "execute_result",
          "data": {
            "text/html": [
              "<div>\n",
              "<style scoped>\n",
              "    .dataframe tbody tr th:only-of-type {\n",
              "        vertical-align: middle;\n",
              "    }\n",
              "\n",
              "    .dataframe tbody tr th {\n",
              "        vertical-align: top;\n",
              "    }\n",
              "\n",
              "    .dataframe thead th {\n",
              "        text-align: right;\n",
              "    }\n",
              "</style>\n",
              "<table border=\"1\" class=\"dataframe\">\n",
              "  <thead>\n",
              "    <tr style=\"text-align: right;\">\n",
              "      <th></th>\n",
              "      <th>Number of Layers</th>\n",
              "      <th>Kernel size</th>\n",
              "      <th>Strides</th>\n",
              "      <th>Pooling window size</th>\n",
              "      <th>Batch size</th>\n",
              "      <th>Epoch</th>\n",
              "      <th>Test Loss</th>\n",
              "      <th>Test Accuracy</th>\n",
              "    </tr>\n",
              "  </thead>\n",
              "  <tbody>\n",
              "    <tr>\n",
              "      <th>I</th>\n",
              "      <td>3</td>\n",
              "      <td>3X3</td>\n",
              "      <td>(1, 1)</td>\n",
              "      <td>(2, 2)</td>\n",
              "      <td>150</td>\n",
              "      <td>15</td>\n",
              "      <td>0.0192</td>\n",
              "      <td>99.41%</td>\n",
              "    </tr>\n",
              "    <tr>\n",
              "      <th>II</th>\n",
              "      <td>5</td>\n",
              "      <td>2X2</td>\n",
              "      <td>(1, 1)</td>\n",
              "      <td>(1, 1)</td>\n",
              "      <td>200</td>\n",
              "      <td>10</td>\n",
              "      <td>0.0497</td>\n",
              "      <td>98.44%</td>\n",
              "    </tr>\n",
              "    <tr>\n",
              "      <th>III</th>\n",
              "      <td>7</td>\n",
              "      <td>5X5</td>\n",
              "      <td>(2, 2)</td>\n",
              "      <td>(1, 1)</td>\n",
              "      <td>200</td>\n",
              "      <td>10</td>\n",
              "      <td>0.0733</td>\n",
              "      <td>97.88%</td>\n",
              "    </tr>\n",
              "  </tbody>\n",
              "</table>\n",
              "</div>"
            ],
            "text/plain": [
              "    Number of Layers Kernel size Strides  ... Epoch Test Loss Test Accuracy\n",
              "I                  3         3X3  (1, 1)  ...    15    0.0192        99.41%\n",
              "II                 5         2X2  (1, 1)  ...    10    0.0497        98.44%\n",
              "III                7         5X5  (2, 2)  ...    10    0.0733        97.88%\n",
              "\n",
              "[3 rows x 8 columns]"
            ]
          },
          "metadata": {
            "tags": []
          },
          "execution_count": 38
        }
      ]
    }
  ]
}