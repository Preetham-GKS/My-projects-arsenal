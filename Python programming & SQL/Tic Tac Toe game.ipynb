{
 "cells": [
  {
   "cell_type": "markdown",
   "metadata": {},
   "source": [
    "# Milestone Project 1\n",
    "## Congratulations on making it to your first milestone!\n",
    "You've already learned a ton and are ready to work on a real project.\n",
    "\n",
    "Your assignment: Create a Tic Tac Toe game. You are free to use any IDE you like.\n",
    "\n",
    "Here are the requirements:\n",
    "\n",
    "* 2 players should be able to play the game (both sitting at the same computer)\n",
    "* The board should be printed out every time a player makes a move\n",
    "* You should be able to accept input of the player position and then place a symbol on the board\n",
    "\n",
    "Feel free to use Google to help you figure anything out (but don't just Google \"Tic Tac Toe in Python\" otherwise you won't learn anything!) Keep in mind that this project can take anywhere between several hours to several days.\n",
    "\n",
    "There are 4 Jupyter Notebooks related to this assignment:\n",
    "\n",
    "* This Assignment Notebook\n",
    "* A \"Walkthrough Steps Workbook\" Notebook\n",
    "* A \"Complete Walkthrough Solution\" Notebook\n",
    "* An \"Advanced Solution\" Notebook\n",
    "\n",
    "I encourage you to just try to start the project on your own without referencing any of the notebooks. If you get stuck, check out the next lecture which is a text lecture with helpful hints and steps. If you're still stuck after that, then check out the Walkthrough Steps Workbook, which breaks up the project in steps for you to solve. Still stuck? Then check out the Complete Walkthrough Solution video for more help on approaching the project!"
   ]
  },
  {
   "cell_type": "markdown",
   "metadata": {},
   "source": [
    "There are parts of this that will be a struggle...and that is good! I have complete faith that if you have made it this far through the course you have all the tools and knowledge to tackle this project. Remember, it's totally open book, so take your time, do a little research, and remember:\n",
    "\n",
    "## HAVE FUN!"
   ]
  },
  {
   "cell_type": "code",
   "execution_count": 1,
   "metadata": {},
   "outputs": [],
   "source": [
    "from IPython.display import clear_output\n",
    "\n",
    "def display_board(board):\n",
    "    clear_output()\n",
    "    print(board[7]+'|'+board[8]+'|'+board[9])\n",
    "    print('-----')\n",
    "    print(board[4]+'|'+board[5]+'|'+board[6])\n",
    "    print('-----')\n",
    "    print(board[1]+'|'+board[2]+'|'+board[3])"
   ]
  },
  {
   "cell_type": "code",
   "execution_count": 2,
   "metadata": {},
   "outputs": [
    {
     "name": "stdout",
     "output_type": "stream",
     "text": [
      "a|a|a\n",
      "-----\n",
      "a|a|a\n",
      "-----\n",
      "a|a|a\n"
     ]
    }
   ],
   "source": [
    "board=['a']*10\n",
    "display_board(board)"
   ]
  },
  {
   "cell_type": "code",
   "execution_count": 3,
   "metadata": {},
   "outputs": [],
   "source": [
    "def player_input():\n",
    "    marker='' \n",
    "    while not (marker=='X' or marker=='O'):\n",
    "        marker=input(\"Enter X or O for player-1: \").upper()\n",
    "        \n",
    "    if marker=='X':\n",
    "        return ('X', 'O')\n",
    "    else:\n",
    "        return ('O', 'X')"
   ]
  },
  {
   "cell_type": "code",
   "execution_count": 4,
   "metadata": {},
   "outputs": [
    {
     "name": "stdout",
     "output_type": "stream",
     "text": [
      "Enter X or O for player-1: X\n"
     ]
    },
    {
     "data": {
      "text/plain": [
       "('X', 'O')"
      ]
     },
     "execution_count": 4,
     "metadata": {},
     "output_type": "execute_result"
    }
   ],
   "source": [
    "player_input()"
   ]
  },
  {
   "cell_type": "code",
   "execution_count": 5,
   "metadata": {},
   "outputs": [],
   "source": [
    "def board_pos(board,marker,pos):\n",
    "    board[pos]=marker"
   ]
  },
  {
   "cell_type": "code",
   "execution_count": 6,
   "metadata": {},
   "outputs": [
    {
     "name": "stdout",
     "output_type": "stream",
     "text": [
      "a|a|@\n",
      "-----\n",
      "a|a|a\n",
      "-----\n",
      "a|a|a\n"
     ]
    }
   ],
   "source": [
    "board_pos(board,'@',9)\n",
    "display_board(board)"
   ]
  },
  {
   "cell_type": "code",
   "execution_count": 7,
   "metadata": {},
   "outputs": [],
   "source": [
    "def win_check(board,marker):\n",
    "    return ((board[7]==marker and board[8]== marker and board[9]==marker)\n",
    "            or (board[4]== marker and board[5]== marker and board[6]==marker)\n",
    "            or (board[1]==marker and board[2]==marker and board[3]==marker)\n",
    "            or (board[7]==marker and board[4]== marker and board[1]==marker)\n",
    "            or (board[8]==marker and board[5]== marker and board[2]==marker)\n",
    "            or (board[9]==marker and board[6]==marker and board[3]==marker)\n",
    "            or (board[7]==marker and board[5]==marker and board[3]==marker)\n",
    "            or (board[9]==marker and board[5]==marker and board[1]==marker))"
   ]
  },
  {
   "cell_type": "code",
   "execution_count": 10,
   "metadata": {},
   "outputs": [
    {
     "data": {
      "text/plain": [
       "True"
      ]
     },
     "execution_count": 10,
     "metadata": {},
     "output_type": "execute_result"
    }
   ],
   "source": [
    "win_check(board,'a')"
   ]
  },
  {
   "cell_type": "code",
   "execution_count": 11,
   "metadata": {},
   "outputs": [],
   "source": [
    "import random\n",
    "\n",
    "def choose_first():\n",
    "    if random.randint(0,1)==0:\n",
    "        return 'Player1'\n",
    "    else:\n",
    "        return 'Player2'"
   ]
  },
  {
   "cell_type": "code",
   "execution_count": 12,
   "metadata": {},
   "outputs": [],
   "source": [
    "def space_check(board,pos):\n",
    "    return board[pos]==' '"
   ]
  },
  {
   "cell_type": "code",
   "execution_count": 17,
   "metadata": {},
   "outputs": [],
   "source": [
    "def board_check(board):\n",
    "    for pos in range(1,10):\n",
    "        if space_check(board,pos):\n",
    "            return False\n",
    "    else:\n",
    "        return True"
   ]
  },
  {
   "cell_type": "code",
   "execution_count": 14,
   "metadata": {},
   "outputs": [],
   "source": [
    "def player_choice(board):\n",
    "    pos=0\n",
    "    while pos not in range(1,10) or not space_check(board,pos):\n",
    "        pos=int(input('Enter next number between 1-9: '))\n",
    "    return pos"
   ]
  },
  {
   "cell_type": "code",
   "execution_count": 15,
   "metadata": {},
   "outputs": [],
   "source": [
    "def replay():\n",
    "    result=input('Do you want to play again? Say Yes/No!: ')\n",
    "    return result[0].upper()=='Y'"
   ]
  },
  {
   "cell_type": "code",
   "execution_count": 20,
   "metadata": {},
   "outputs": [
    {
     "name": "stdout",
     "output_type": "stream",
     "text": [
      " |X|O\n",
      "-----\n",
      "X|X|X\n",
      "-----\n",
      "O| |O\n",
      "Congratulations! You have won the game!\n",
      "Do you want to play again? Say Yes/No!: no\n"
     ]
    }
   ],
   "source": [
    "print('Well Hello! Welcome to the world of Tic-Tac-Toe :)')\n",
    "while True:\n",
    "    board=[' ']*10\n",
    "    Player1_marker,Player2_marker=player_input()\n",
    "    turn=choose_first()\n",
    "    print(turn + ' will play first ')\n",
    "    \n",
    "    play=input('Are you ready to play? Enter Yes/No: ')\n",
    "    \n",
    "    if play.lower()=='yes':\n",
    "        game_on = True\n",
    "    else:\n",
    "        game_on = False\n",
    "    \n",
    "    while game_on:\n",
    "        if turn=='Player1':\n",
    "        \n",
    "        #Player 1 Turn\n",
    "        \n",
    "            display_board(board)\n",
    "            position=player_choice(board)\n",
    "            board_pos(board,Player1_marker,position)\n",
    "        \n",
    "            if win_check(board,Player1_marker):\n",
    "                display_board(board)\n",
    "                print('Congratulations! You have won the game!')\n",
    "                game_on = False\n",
    "            \n",
    "            else:\n",
    "                if board_check(board):\n",
    "                    display_board(board)\n",
    "                    print('The match is a draw!')\n",
    "                    game_on = False\n",
    "                else:\n",
    "                    turn='Player2'\n",
    "        \n",
    "        else:\n",
    "            #Player 2 Turn\n",
    "            display_board(board)\n",
    "            position=player_choice(board)\n",
    "            board_pos(board,Player2_marker,position)\n",
    "        \n",
    "            if win_check(board,Player2_marker):\n",
    "                display_board(board)\n",
    "                print('Congratulations! You have won the game!')\n",
    "                game_on = False\n",
    "            \n",
    "            else:\n",
    "                if board_check(board):\n",
    "                    display_board(board)\n",
    "                    print('The match is a draw!')\n",
    "                    game_on = False\n",
    "                else:\n",
    "                    turn='Player1'            \n",
    "            \n",
    "    if not replay():\n",
    "        break"
   ]
  },
  {
   "cell_type": "code",
   "execution_count": null,
   "metadata": {},
   "outputs": [],
   "source": []
  }
 ],
 "metadata": {
  "kernelspec": {
   "display_name": "Python 3",
   "language": "python",
   "name": "python3"
  },
  "language_info": {
   "codemirror_mode": {
    "name": "ipython",
    "version": 3
   },
   "file_extension": ".py",
   "mimetype": "text/x-python",
   "name": "python",
   "nbconvert_exporter": "python",
   "pygments_lexer": "ipython3",
   "version": "3.6.5"
  }
 },
 "nbformat": 4,
 "nbformat_minor": 1
}
