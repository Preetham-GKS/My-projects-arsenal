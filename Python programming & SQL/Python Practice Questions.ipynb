{
 "cells": [
  {
   "cell_type": "code",
   "execution_count": 4,
   "metadata": {},
   "outputs": [
    {
     "name": "stdout",
     "output_type": "stream",
     "text": [
      "Enter the number to get the multiplication table for: 5\n",
      "Enter the last multiplier for the given number: 10\n",
      "The multiplication table for 5 till 10 is as follows:\n",
      "5 X 1 = 5\n",
      "5 X 2 = 10\n",
      "5 X 3 = 15\n",
      "5 X 4 = 20\n",
      "5 X 5 = 25\n",
      "5 X 6 = 30\n",
      "5 X 7 = 35\n",
      "5 X 8 = 40\n",
      "5 X 9 = 45\n",
      "5 X 10 = 50\n"
     ]
    }
   ],
   "source": [
    "#Problem 1: To write a function which inputs a number & prints the multiplication table\n",
    "\n",
    "def mul_table(x,y):\n",
    "    \"\"\"\n",
    "    To calculate the product of two numbers\n",
    "    \"\"\"\n",
    "    for i in range(1,y+1):\n",
    "        prod=x*i;\n",
    "        print(x,\"X\",i,\"=\",prod);\n",
    "    return\n",
    "a=int(input(\"Enter the number to get the multiplication table for: \"))\n",
    "b=int(input(\"Enter the last multiplier for the given number: \"))\n",
    "print(\"The multiplication table for {} till {} is as follows:\".format(a,b));\n",
    "mul_table(a,b);"
   ]
  },
  {
   "cell_type": "code",
   "execution_count": 4,
   "metadata": {},
   "outputs": [
    {
     "name": "stdout",
     "output_type": "stream",
     "text": [
      "Twin primes less than 1000 are:\n",
      "\n",
      "( 3 , 5 )( 5 , 7 )( 11 , 13 )( 17 , 19 )( 29 , 31 )( 41 , 43 )( 59 , 61 )( 71 , 73 )( 101 , 103 )( 107 , 109 )( 137 , 139 )( 149 , 151 )( 179 , 181 )( 191 , 193 )( 197 , 199 )( 227 , 229 )( 239 , 241 )( 269 , 271 )( 281 , 283 )( 311 , 313 )( 347 , 349 )( 419 , 421 )( 431 , 433 )( 461 , 463 )( 521 , 523 )( 569 , 571 )( 599 , 601 )( 617 , 619 )( 641 , 643 )( 659 , 661 )( 809 , 811 )( 821 , 823 )( 827 , 829 )( 857 , 859 )( 881 , 883 )"
     ]
    }
   ],
   "source": [
    "#Problem 2: To print twin primes less than 1000\n",
    "\n",
    "print(\"Twin primes less than 1000 are:\\n\")\n",
    "def twin_prime(a,b):\n",
    "    \"\"\"To check & evaluate if the difference between 2 consecutive odd prime numbers is \"2\" by using variable \"j\" & \"if\" statement\"\"\"\n",
    "    for i in range(a,b):\n",
    "        j=i+2;\n",
    "        if(prime_check(j) and prime_check(i)):\n",
    "            print(\"(\",i,\",\",j,\")\",end='')\n",
    "def prime_check(c):\n",
    "    \"\"\"To check if the number obtained as input from the if statemnt of twin_prime function is prime or not\"\"\"\n",
    "    for k in range(2,c):\n",
    "        if c%k==0:\n",
    "            return False;\n",
    "    return True;\n",
    "twin_prime(2,1000);\n",
    "\n",
    "# reference link: https://www.tutorialspoint.com/How-to-generate-prime-twins-using-Python \n",
    "# request you to suggest a way to print the entire thing in one single line"
   ]
  },
  {
   "cell_type": "code",
   "execution_count": 3,
   "metadata": {},
   "outputs": [
    {
     "name": "stdout",
     "output_type": "stream",
     "text": [
      "Enter the number to find the prime factors: 56\n"
     ]
    },
    {
     "data": {
      "text/plain": [
       "[2, 2, 2, 7]"
      ]
     },
     "execution_count": 3,
     "metadata": {},
     "output_type": "execute_result"
    }
   ],
   "source": [
    "#Problem3: prime factors\n",
    "\n",
    "num=int(input(\"Enter the number to find the prime factors: \"));\n",
    "\n",
    "def p_f(num):\n",
    "    \"\"\"\"\n",
    "    To check if the number's divisibility by starting off with 2(later increasing by one-fold) and producing the output in the form of a list\n",
    "    \"\"\"\n",
    "    prime_fac=[];\n",
    "    div=2;\n",
    "    while num>1:\n",
    "        if num%div==0:\n",
    "            prime_fac.append(div);\n",
    "            num/=div;\n",
    "        else:\n",
    "            div+=1;\n",
    "    return prime_fac\n",
    "\n",
    "p_f(num)\n",
    "\n",
    "#reference link: https://anh.cs.luc.edu/331/code/factoring.py"
   ]
  },
  {
   "cell_type": "code",
   "execution_count": 17,
   "metadata": {},
   "outputs": [
    {
     "name": "stdout",
     "output_type": "stream",
     "text": [
      "Enter the value of n:5\n",
      "n! is: 120\n",
      "enter r:2\n",
      "r! is: 2\n",
      "(n-r)! is: 6\n",
      "Permutation of 5 things taken 2 at a time is: 20.0\n",
      "Combination of 5 things taken 2 at a time is: 10.0\n"
     ]
    }
   ],
   "source": [
    "#Problem 4: Program to compute Permutations & Combinations\n",
    "def n_value(n):\n",
    "    \"\"\"\n",
    "    To find n!\n",
    "    \"\"\"\n",
    "    if n==1:\n",
    "        return n\n",
    "    else:\n",
    "        return (n*n_value(n-1))\n",
    "    \n",
    "a=int(input(\"Enter the value of n:\"))\n",
    "print(\"n! is:\",n_value(a))\n",
    "\n",
    "def r_value(r):\n",
    "    \"\"\"\n",
    "    To find r!\n",
    "    \"\"\"\n",
    "    if r==1:\n",
    "        return r;\n",
    "    else:\n",
    "        return(r*r_value(r-1))\n",
    "b=int(input(\"enter r:\"))\n",
    "print(\"r! is:\",r_value(b));\n",
    "\n",
    "\n",
    "def n_diff_r(diff):\n",
    "    \"\"\"\n",
    "    To find (n-r)!\n",
    "    \"\"\"\n",
    "    if diff==1:\n",
    "        return diff;\n",
    "    else:\n",
    "        return(diff*n_diff_r(diff-1))\n",
    "d=a-b; #equivalent to (n-r)\n",
    "print(\"(n-r)! is:\",n_diff_r(d));\n",
    "\n",
    "perm=(n_value(a))/(n_diff_r(d));\n",
    "comb=perm/(r_value(b));\n",
    "\n",
    "print(\"Permutation of {} things taken {} at a time is: {}\".format(a,b,perm))\n",
    "print(\"Combination of {} things taken {} at a time is: {}\".format(a,b,comb))"
   ]
  },
  {
   "cell_type": "code",
   "execution_count": 10,
   "metadata": {},
   "outputs": [
    {
     "name": "stdout",
     "output_type": "stream",
     "text": [
      "Enter the decimal number: 25\n",
      "1\n",
      "1\n",
      "0\n",
      "0\n",
      "1\n"
     ]
    }
   ],
   "source": [
    "#Problem 5: Covert a decimal number to binary number\n",
    "num=int(input(\"Enter the decimal number: \"))\n",
    "def conversion(n):\n",
    "    \"\"\" To print the reminder of the number when divided by 2 in reverse order\"\"\"\n",
    "    if n>1:\n",
    "        conversion(n//2)\n",
    "    print(n%2)\n",
    "    return;\n",
    "conversion(num)\n",
    "\n",
    "#reference link: https://www.tutorialspoint.com/How-to-Convert-Decimal-to-Binary-Using-Recursion-in-Python        "
   ]
  },
  {
   "cell_type": "code",
   "execution_count": 31,
   "metadata": {},
   "outputs": [
    {
     "name": "stdout",
     "output_type": "stream",
     "text": [
      "Enter the number: 407\n",
      "Sum of cubes of 407 is 407\n",
      "The given number is an armstrong number.\n"
     ]
    }
   ],
   "source": [
    "#Problem 6: To find sum of cube of individual digits of a number and to check if the number is armstrong & print it\n",
    "\n",
    "num=int(input(\"Enter the number: \"))\n",
    "\n",
    "def PrintArmstrong(result):\n",
    "    \n",
    "    \"\"\" To print the final result if the number is armstrong or not\"\"\"\n",
    "    \n",
    "    if result==True:\n",
    "        print(\"The given number is an armstrong number.\")\n",
    "    else:\n",
    "        print(\"The given number is not an armstrong number.\")\n",
    "\n",
    "def isArmstrong(check):\n",
    "    \n",
    "    \"\"\" To check if the number is armstrong or not\"\"\"\n",
    "    \n",
    "    if check==num:\n",
    "        PrintArmstrong(True);\n",
    "    else:\n",
    "        PrintArmstrong(False);\n",
    "        \n",
    "def cubesum(num):\n",
    "    \n",
    "    \"\"\" To calculate the sum of cubes of individual digits\"\"\"\n",
    "    \n",
    "    n=[int(i) for i in str(num)];                            # to convert digits of an interger to a list\n",
    "    tot=0;                                                   #to find total which is assigned zero initially\n",
    "    for j in n:\n",
    "        tot+=j**3;\n",
    "    print(\"Sum of cubes of {} is {}\".format(num,tot))\n",
    "    isArmstrong(tot)\n",
    "    return\n",
    "cubesum(num);"
   ]
  },
  {
   "cell_type": "code",
   "execution_count": 37,
   "metadata": {},
   "outputs": [
    {
     "name": "stdout",
     "output_type": "stream",
     "text": [
      "Enter the number: 555\n",
      "Product of the digits of 555 is: 125\n"
     ]
    }
   ],
   "source": [
    "#Problem 7: To calculate product of digits\n",
    "num=int(input(\"Enter the number: \"))\n",
    "\n",
    "def prodDigits(num):\n",
    "    \n",
    "    \"\"\" To calculate the product of individual digits\"\"\"\n",
    "    \n",
    "    n=[int(i) for i in str(num)];                            # to convert digits of an interger to a list\n",
    "    prod=1;                                                 #to find product which is assigned 1 initially\n",
    "    for j in n:\n",
    "        prod*=j;\n",
    "    print(\"Product of the digits of {} is: {}\".format(num,prod));\n",
    "    return;\n",
    "prodDigits(num);"
   ]
  },
  {
   "cell_type": "code",
   "execution_count": 2,
   "metadata": {},
   "outputs": [
    {
     "name": "stdout",
     "output_type": "stream",
     "text": [
      "Enter the number to find MDR & MP: 77\n",
      "MPersistence is: 1\n",
      "MPersistence is: 1\n",
      "MPersistence is: 1\n",
      "MPersistence is: 1\n",
      "The MDR is 8\n"
     ]
    }
   ],
   "source": [
    "#Problem 8: To calculate MDR & MPersistence of a number\n",
    "\n",
    "num=int(input(\"Enter the number to find MDR & MP: \"));\n",
    "\n",
    "\n",
    "def MPersistence(count):\n",
    "    \"\"\"To find the multiplicative persistence of a number\"\"\"\n",
    "    print(\"MPersistence is:\",count)\n",
    "    \n",
    "def prodDigits(num):\n",
    "    \"\"\"To find product of digits of the number\"\"\"\n",
    "    count=0;\n",
    "    count+=1;\n",
    "    MPersistence(count)\n",
    "    n=[int(i) for i in str(num)];                       \n",
    "    prod=1;                                                 \n",
    "    for j in n:\n",
    "        prod*=j;\n",
    "    return prod\n",
    "\n",
    "    \n",
    "def MDR(num):\n",
    "    \"\"\"To find multiplicative digital root\"\"\"\n",
    "    while num>=10:\n",
    "        num=prodDigits(num);\n",
    "    return num;\n",
    "\n",
    "print(\"The MDR is\",MDR(num));"
   ]
  },
  {
   "cell_type": "code",
   "execution_count": 6,
   "metadata": {},
   "outputs": [
    {
     "name": "stdout",
     "output_type": "stream",
     "text": [
      "Enter the number: 77\n",
      "Sum of all the divisors of 77 is: 19\n"
     ]
    }
   ],
   "source": [
    "#Problem 9: To find the sum of proper divisors of a number\n",
    "\n",
    "num=int(input(\"Enter the number: \"))\n",
    "\n",
    "def sumPdivisors(num):\n",
    "    \"\"\" To calculate sum of divisors\"\"\"\n",
    "    tot=0;\n",
    "    for i in range(1,num):\n",
    "        if num%i==0:\n",
    "            tot+=i;\n",
    "        else:\n",
    "            continue;\n",
    "    return tot;\n",
    "\n",
    "result=sumPdivisors(num);\n",
    "print(\"Sum of all the divisors of {} is: {}\".format(num,result))"
   ]
  },
  {
   "cell_type": "code",
   "execution_count": 100,
   "metadata": {},
   "outputs": [
    {
     "name": "stdout",
     "output_type": "stream",
     "text": [
      "Enter the lower limit number of the range: 1\n",
      "Enter the upper limit number of the range: 500\n",
      "The perfect numbers from 1 to 500 are:\n",
      "6\n",
      "28\n",
      "496\n"
     ]
    }
   ],
   "source": [
    "#Problem 10: To print all perfect numbers in the given range\n",
    "ln=int(input(\"Enter the lower limit number of the range: \"))\n",
    "hn=int(input(\"Enter the upper limit number of the range: \"))\n",
    "print(\"The perfect numbers from {} to {} are:\".format(ln,hn))\n",
    "\n",
    "def sumPdivisors(num):\n",
    "    \"\"\" To calculate sum of divisors\"\"\"\n",
    "    tot=0;\n",
    "    for i in range(1,num):\n",
    "        if num%i==0:\n",
    "            tot+=i;\n",
    "        else:\n",
    "            continue;\n",
    "    return tot;\n",
    "\n",
    "for num in range(ln,hn+1):\n",
    "    result=sumPdivisors(num);\n",
    "    if result==num: \n",
    "        print(num)\n",
    "\n"
   ]
  },
  {
   "cell_type": "code",
   "execution_count": null,
   "metadata": {},
   "outputs": [
    {
     "name": "stdout",
     "output_type": "stream",
     "text": [
      "Amicable numbers between 1 & 1000 are:\n",
      "['220', '284']\n",
      "['284', '220']\n"
     ]
    }
   ],
   "source": [
    "#Problem 11: To print pairs of amicable numbers in the given range\n",
    "print(\"Amicable numbers between 1 & 1000 are:\")\n",
    "def sumPdivisors(a,b):\n",
    "    \"\"\" To calculate sum of divisors for both the numbers and to return a boolean value\"\"\"\n",
    "    tot1=0;\n",
    "    tot2=0;\n",
    "    for i in range(1,a):\n",
    "        if a%i==0:\n",
    "            tot1+=i;\n",
    "        else:\n",
    "            continue;\n",
    "    for j in range(1,b):\n",
    "        if b%j==0:\n",
    "            tot2+=j;\n",
    "        else:\n",
    "            continue;\n",
    "    if tot1==b and tot2==a:\n",
    "        return True;\n",
    "    else:\n",
    "        return False;\n",
    "   \n",
    "for a in range(1,1000):\n",
    "    for b in range(1,1000):\n",
    "        if sumPdivisors(a,b)==True and a!=b:\n",
    "            s=str(a)+\" \"+str(b)\n",
    "            print(s.split())\n",
    "\n",
    "#reference link: https://stackoverflow.com/questions/38094818/what-is-the-most-efficient-way-to-find-amicable-numbers-in-python"
   ]
  },
  {
   "cell_type": "code",
   "execution_count": 2,
   "metadata": {},
   "outputs": [
    {
     "name": "stdout",
     "output_type": "stream",
     "text": [
      "Enter the lower limit number of the range: 1\n",
      "Enter the upper limit number of the range: 20\n",
      "List without filter= [1, 2, 3, 4, 5, 6, 7, 8, 9, 10, 11, 12, 13, 14, 15, 16, 17, 18, 19, 20]\n",
      "Odd number list= [1, 3, 5, 7, 9, 11, 13, 15, 17, 19]\n"
     ]
    }
   ],
   "source": [
    "#Problem 12: To filter odd numbers in the list for a given range\n",
    "\n",
    "a=int(input(\"Enter the lower limit number of the range: \"))\n",
    "b=int(input(\"Enter the upper limit number of the range: \"))\n",
    "num_list=range(a,b+1);\n",
    "print(\"List without filter=\",list(num_list));\n",
    "oddnum_list=filter(lambda x:(x%2==1),num_list);\n",
    "print(\"Odd number list=\",list(oddnum_list));\n"
   ]
  },
  {
   "cell_type": "code",
   "execution_count": 3,
   "metadata": {},
   "outputs": [
    {
     "name": "stdout",
     "output_type": "stream",
     "text": [
      "Enter the lower limit number of the range: 1\n",
      "Enter the upper limit number of the range: 5\n",
      "Original list= [1, 2, 3, 4, 5]\n",
      "Cube of all elements= [1, 8, 27, 64, 125]\n"
     ]
    }
   ],
   "source": [
    "#Problem 13: To find cube of elements in the list for a given range\n",
    "\n",
    "a=int(input(\"Enter the lower limit number of the range: \"))\n",
    "b=int(input(\"Enter the upper limit number of the range: \"))\n",
    "num_list=range(a,b+1);\n",
    "print(\"Original list=\",list(num_list));\n",
    "cube_list=map(lambda x:x**3,num_list)\n",
    "print(\"Cube of all elements=\",list(cube_list));"
   ]
  },
  {
   "cell_type": "code",
   "execution_count": 15,
   "metadata": {},
   "outputs": [
    {
     "name": "stdout",
     "output_type": "stream",
     "text": [
      "Enter the lower limit number of the range: 1\n",
      "Enter the upper limit number of the range: 10\n",
      "Original List = [1, 2, 3, 4, 5, 6, 7, 8, 9, 10]\n",
      "Cube of even numbers= [8, 64, 216, 512, 1000]\n"
     ]
    }
   ],
   "source": [
    "#Problem 14: To find cube of even elements in the list for a given range\n",
    "\n",
    "a=int(input(\"Enter the lower limit number of the range: \"))\n",
    "b=int(input(\"Enter the upper limit number of the range: \"))\n",
    "num_list=range(a,b+1);\n",
    "print(\"Original List =\",list(num_list));\n",
    "evennum_list=filter(lambda x:x%2==0,num_list);\n",
    "cube_list=map(lambda i:i**3,evennum_list)\n",
    "print(\"Cube of even numbers=\",list(cube_list));"
   ]
  }
 ],
 "metadata": {
  "kernelspec": {
   "display_name": "Python 3",
   "language": "python",
   "name": "python3"
  },
  "language_info": {
   "codemirror_mode": {
    "name": "ipython",
    "version": 3
   },
   "file_extension": ".py",
   "mimetype": "text/x-python",
   "name": "python",
   "nbconvert_exporter": "python",
   "pygments_lexer": "ipython3",
   "version": "3.6.5"
  }
 },
 "nbformat": 4,
 "nbformat_minor": 2
}
